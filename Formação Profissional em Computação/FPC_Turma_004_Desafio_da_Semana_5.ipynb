{
  "nbformat": 4,
  "nbformat_minor": 0,
  "metadata": {
    "colab": {
      "name": "FPC-Turma 004-Desafio da Semana 5.ipynb",
      "provenance": [],
      "collapsed_sections": [
        "Ulb_IHMH4vlR"
      ],
      "toc_visible": true
    },
    "kernelspec": {
      "name": "python3",
      "display_name": "Python 3"
    },
    "language_info": {
      "name": "python"
    }
  },
  "cells": [
    {
      "cell_type": "markdown",
      "metadata": {
        "id": "e1hdd8UunkDF"
      },
      "source": [
        "# DESAFIO DA SEMANA 5\n",
        "\n",
        "Criar um serviço web REST no Django para manipular dados de alunos da Univesp seguindo os exemplos na videoaula da disciplina.\n",
        "\n",
        "**Bibliografia**:\n",
        "\n",
        "[1] https://www.djangoproject.com/\n",
        "\n",
        "[2] https://pythonacademy.com.br/"
      ]
    },
    {
      "cell_type": "code",
      "metadata": {
        "colab": {
          "base_uri": "https://localhost:8080/"
        },
        "id": "Fsg8t_1nFcmW",
        "outputId": "327f4c69-209c-4515-f547-14ff5ce8f52f"
      },
      "source": [
        "!python --version"
      ],
      "execution_count": 1,
      "outputs": [
        {
          "output_type": "stream",
          "text": [
            "Python 3.7.10\n"
          ],
          "name": "stdout"
        }
      ]
    },
    {
      "cell_type": "markdown",
      "metadata": {
        "id": "P20JlFlS8Fhx"
      },
      "source": [
        "### Instalação do DJANGO\n",
        "É preciso usar o simbolo (!) para executar uma célula de codigo como ***CONSOLE***, desse jeito é possível executar o DJANGO no Google Colab.\n",
        "\n",
        "\n",
        "Instalar o framework DJANGO"
      ]
    },
    {
      "cell_type": "code",
      "metadata": {
        "colab": {
          "base_uri": "https://localhost:8080/"
        },
        "id": "UEk8S6OJ8KEl",
        "outputId": "fafe4ef8-da4f-4a18-b823-9858a76ecba3"
      },
      "source": [
        "!pip install django"
      ],
      "execution_count": 2,
      "outputs": [
        {
          "output_type": "stream",
          "text": [
            "Collecting django\n",
            "\u001b[?25l  Downloading https://files.pythonhosted.org/packages/a8/9b/fe94c509e514f6c227308e81076506eb9d67f2bfb8061ce5cdfbde0432e3/Django-3.2-py3-none-any.whl (7.9MB)\n",
            "\u001b[K     |████████████████████████████████| 7.9MB 6.2MB/s \n",
            "\u001b[?25hRequirement already satisfied: sqlparse>=0.2.2 in /usr/local/lib/python3.7/dist-packages (from django) (0.4.1)\n",
            "Collecting asgiref<4,>=3.3.2\n",
            "  Downloading https://files.pythonhosted.org/packages/17/8b/05e225d11154b8f5358e6a6d277679c9741ec0339d1e451c9cef687a9170/asgiref-3.3.4-py3-none-any.whl\n",
            "Requirement already satisfied: pytz in /usr/local/lib/python3.7/dist-packages (from django) (2018.9)\n",
            "Requirement already satisfied: typing-extensions; python_version < \"3.8\" in /usr/local/lib/python3.7/dist-packages (from asgiref<4,>=3.3.2->django) (3.7.4.3)\n",
            "Installing collected packages: asgiref, django\n",
            "Successfully installed asgiref-3.3.4 django-3.2\n"
          ],
          "name": "stdout"
        }
      ]
    },
    {
      "cell_type": "markdown",
      "metadata": {
        "id": "YQ4tLlZT_N4i"
      },
      "source": [
        "Verificar se a intalação foi correta através da versão do Django."
      ]
    },
    {
      "cell_type": "code",
      "metadata": {
        "colab": {
          "base_uri": "https://localhost:8080/"
        },
        "id": "jNwpCs-5FUYr",
        "outputId": "5339083a-455f-4d39-9177-3c8d8a077334"
      },
      "source": [
        "!python -m django --version"
      ],
      "execution_count": 3,
      "outputs": [
        {
          "output_type": "stream",
          "text": [
            "3.2\n"
          ],
          "name": "stdout"
        }
      ]
    },
    {
      "cell_type": "markdown",
      "metadata": {
        "id": "_O5WgeemGpV-"
      },
      "source": [
        "## Criar o projeto no DJANGO\n",
        "Criar o projeto com o nome: `cadastrounivesp`\n",
        "\n",
        "Codigo em ***CONSOLE***."
      ]
    },
    {
      "cell_type": "code",
      "metadata": {
        "id": "wexXk-kH8T1X"
      },
      "source": [
        "!django-admin startproject cadastrounivesp"
      ],
      "execution_count": 4,
      "outputs": []
    },
    {
      "cell_type": "markdown",
      "metadata": {
        "id": "Q3xNZWdvGs62"
      },
      "source": [
        "### Verificar PATH\n",
        "Verificar as pastas do endereço principal da notebook.\n",
        "\n",
        "Pasta do projeto da notebook Colab.\n",
        "\n",
        "Codigo em ***CONSOLE***."
      ]
    },
    {
      "cell_type": "code",
      "metadata": {
        "colab": {
          "base_uri": "https://localhost:8080/"
        },
        "id": "YO1xEsIg8g5m",
        "outputId": "7e614ddd-4516-4ee9-c4a3-0108f8d3e877"
      },
      "source": [
        "!ls"
      ],
      "execution_count": 5,
      "outputs": [
        {
          "output_type": "stream",
          "text": [
            "cadastrounivesp  sample_data\n"
          ],
          "name": "stdout"
        }
      ]
    },
    {
      "cell_type": "markdown",
      "metadata": {
        "id": "VfsUOlnb81qr"
      },
      "source": [
        "### Alterar o endereço para a pasta do projeto DJANGO.\n",
        "\n",
        "Para mudar de endereço é preciso usar o comando cd, mas nesse caso tem que ser com o simbolo (%) diante porque não funciona com uma exclamação (!) no Google Colab.\n",
        "\n",
        "Codigo em ***CONSOLE***."
      ]
    },
    {
      "cell_type": "code",
      "metadata": {
        "colab": {
          "base_uri": "https://localhost:8080/"
        },
        "id": "0RDRGxp78mtN",
        "outputId": "16b8e084-f552-4c4c-93cf-4234880caf1a"
      },
      "source": [
        "%cd cadastrounivesp/"
      ],
      "execution_count": 6,
      "outputs": [
        {
          "output_type": "stream",
          "text": [
            "/content/cadastrounivesp\n"
          ],
          "name": "stdout"
        }
      ]
    },
    {
      "cell_type": "markdown",
      "metadata": {
        "id": "2bpQgrtXHWx3"
      },
      "source": [
        "### Criar ***WEBSITE***\n",
        "\n",
        "Criar a estrutura do website.\n",
        "\n",
        "Codigo em ***CONSOLE***."
      ]
    },
    {
      "cell_type": "code",
      "metadata": {
        "id": "URY2evffFgjP"
      },
      "source": [
        "!django-admin startapp website"
      ],
      "execution_count": 7,
      "outputs": []
    },
    {
      "cell_type": "markdown",
      "metadata": {
        "id": "CMyI_Z_izDCw"
      },
      "source": [
        "Verificar as pastas do endereço do projeto DJANGO.\n",
        "\n",
        "Codigo em ***CONSOLE***."
      ]
    },
    {
      "cell_type": "code",
      "metadata": {
        "colab": {
          "base_uri": "https://localhost:8080/"
        },
        "id": "VaaVqlvjI4T1",
        "outputId": "757e5671-8c64-438e-8855-870e313001da"
      },
      "source": [
        "!ls"
      ],
      "execution_count": 8,
      "outputs": [
        {
          "output_type": "stream",
          "text": [
            "cadastrounivesp  manage.py  website\n"
          ],
          "name": "stdout"
        }
      ]
    },
    {
      "cell_type": "markdown",
      "metadata": {
        "id": "kCCn-QTvzVxn"
      },
      "source": [
        "Entrar na pasta Website para criar mais duas pastas (`templates` e `website`), essas pastas estão vinculadas com o design dos sites a mostrar.\n",
        "\n",
        "Codigo em ***CONSOLE***."
      ]
    },
    {
      "cell_type": "code",
      "metadata": {
        "colab": {
          "base_uri": "https://localhost:8080/"
        },
        "id": "KS5eV0ISHSvV",
        "outputId": "0892d7b1-a9ab-4ca2-9bcd-279415ee6067"
      },
      "source": [
        "%cd \\website\n",
        "!mkdir templates/\n",
        "!ls\n",
        "\n",
        "%cd \\templates\n",
        "!mkdir website/\n",
        "!ls"
      ],
      "execution_count": 9,
      "outputs": [
        {
          "output_type": "stream",
          "text": [
            "/content/cadastrounivesp/website\n",
            "admin.py  __init__.py  models.py  tests.py\n",
            "apps.py   migrations   templates  views.py\n",
            "/content/cadastrounivesp/website/templates\n",
            "website\n"
          ],
          "name": "stdout"
        }
      ]
    },
    {
      "cell_type": "markdown",
      "metadata": {
        "id": "dMTNCCpMz5GA"
      },
      "source": [
        "### Retornar ao endereço do projeto \n",
        "Retornar ao endereço do projeto do DJANGO correspondente a pasta do projeto.\n",
        "\n",
        "Codigo em ***CONSOLE***."
      ]
    },
    {
      "cell_type": "code",
      "metadata": {
        "colab": {
          "base_uri": "https://localhost:8080/"
        },
        "id": "d47QV8XQJztV",
        "outputId": "2f528911-474b-4207-e305-f67ba06780c1"
      },
      "source": [
        "%cd ..\n",
        "%cd .."
      ],
      "execution_count": 10,
      "outputs": [
        {
          "output_type": "stream",
          "text": [
            "/content/cadastrounivesp/website\n",
            "/content/cadastrounivesp\n"
          ],
          "name": "stdout"
        }
      ]
    },
    {
      "cell_type": "markdown",
      "metadata": {
        "id": "82YJXkqcK3Am"
      },
      "source": [
        "## **Camada MODEL**\n",
        "Os passos descritos a seguir devem ser feitos manualmente. As mudanças tem que ser feitas na pasta do projeto, pode acessar a ela através do menu lateral da esquerda no simbolo de pasta (4o ícone). O passo 2 pode ser feito por códigos em ***CONSOLE***, mas como é um passo simples é melhor fazer manualmente para não atrapalhar com várias linhas de código.\n",
        "\n",
        "1. É necessário adicionar os **apps** da nossa aplicação à essa lista para que o Django as enxergue. Fazemos isso atualizando a configuração\n",
        "INSTALLED_APPS em `/cadastrounivesp/settings.py`\n",
        "\n",
        "```\n",
        "INSTALLED_APPS = [\n",
        "    'django.contrib.admin',\n",
        "    'django.contrib.auth',\n",
        "    'django.contrib.contenttypes',\n",
        "    'django.contrib.sessions',\n",
        "    'django.contrib.messages',\n",
        "    'django.contrib.staticfiles',\n",
        "    'cadastrounivesp', # <-- Nome do projeto\n",
        "    'website'    # <-- Nome do website\n",
        "]\n",
        "```\n",
        "\n",
        "\n",
        "2. Vamos passar o arquivo de modelos `models.py` de\n",
        "`/website` para `/cadastrounivesp`, pois os arquivos comuns ao projeto vão ficar centralizados no app portfolio.\n",
        "\n",
        "\n",
        "3. Adicionar ao arquivo `models.py` os codigos a seguir:\n",
        "\n",
        "```\n",
        "from django.db import models\n",
        "\n",
        "class Aluno(models.Model):\n",
        "  \n",
        "  nome = models.CharField(\n",
        "    max_length=255,\n",
        "    null=False,\n",
        "    blank=False\n",
        "  )\n",
        "\n",
        "  sobrenome = models.CharField(\n",
        "    max_length=255,\n",
        "    null=False,\n",
        "    blank=False\n",
        "  )\n",
        "\n",
        "  matricula = models.CharField(\n",
        "    max_length=14,\n",
        "    null=False,\n",
        "    blank=False\n",
        "  )\n",
        "\n",
        "  objetos = models.Manager()\n",
        "```\n"
      ]
    },
    {
      "cell_type": "markdown",
      "metadata": {
        "id": "p8DTQ9p3z4eR"
      },
      "source": [
        "### Aplicar mudanças\n",
        "O comando **makemigrations** analisa se foram feitas mudanças nos modelos e, em caso positivo, cria novas migrações (Migrations) para alterar a estrutura do seu banco de dados, refletindo as alterações feitas. Ao executar pela primeira vez, talvez seja necessário executar o comando referenciando o app os modelos estão definidos, com: `python manage.py makemigrations cadastrounivesp`. Depois disso, apenas `python manage.py makemigrations` deve bastar!"
      ]
    },
    {
      "cell_type": "code",
      "metadata": {
        "colab": {
          "base_uri": "https://localhost:8080/"
        },
        "id": "fov6_fSEJ2dU",
        "outputId": "a97a7753-8ed3-4a60-dd22-bff1c2b166f1"
      },
      "source": [
        "!python manage.py makemigrations cadastrounivesp"
      ],
      "execution_count": 11,
      "outputs": [
        {
          "output_type": "stream",
          "text": [
            "\u001b[36;1mMigrations for 'cadastrounivesp':\u001b[0m\n",
            "  \u001b[1mcadastrounivesp/migrations/0001_initial.py\u001b[0m\n",
            "    - Create model Aluno\n"
          ],
          "name": "stdout"
        }
      ]
    },
    {
      "cell_type": "markdown",
      "metadata": {
        "id": "09tjbOZWQw2b"
      },
      "source": [
        "Quando executamos o **makemigrations**, o Django cria o banco de dados e as migrations, mas não as executa, isto é: não aplica as alterações no banco de dados.\n",
        "Para que o Django as aplique, são necessárias três coisas, basicamente:\n",
        "1. Que a configuração da interface com o banco de dados esteja descrita no `settings.py`, procure pela\n",
        "configuração `DATABASES`.\n",
        "\n",
        "```\n",
        "import os\n",
        "DATABASES = {\n",
        "    'default': {\n",
        "        'ENGINE': 'django.db.backends.sqlite3',\n",
        "        'NAME': os.path.join(BASE_DIR, 'db.sqlite3'),\n",
        "    }\n",
        "}\n",
        "```\n",
        "\n",
        "2. Que os *modelos* e *migrations* estejam definidos para esse projeto. Verificar na pasta com o nome do projeto que existem os arquivos `models.py` e `migrations/0001_initial.py`\n",
        "\n",
        "3. Execução do comando migrate. Codigo em ***CONSOLE***.\n",
        "\n",
        "```\n",
        "python manage.py migrate\n",
        "```\n",
        "\n"
      ]
    },
    {
      "cell_type": "code",
      "metadata": {
        "colab": {
          "base_uri": "https://localhost:8080/"
        },
        "id": "EfXIXoxQRKAN",
        "outputId": "d3f8a787-3984-4b81-8181-40d3b78d9384"
      },
      "source": [
        "!python manage.py migrate"
      ],
      "execution_count": 12,
      "outputs": [
        {
          "output_type": "stream",
          "text": [
            "\u001b[36;1mOperations to perform:\u001b[0m\n",
            "\u001b[1m  Apply all migrations: \u001b[0madmin, auth, cadastrounivesp, contenttypes, sessions\n",
            "\u001b[36;1mRunning migrations:\u001b[0m\n",
            "  Applying contenttypes.0001_initial...\u001b[32;1m OK\u001b[0m\n",
            "  Applying auth.0001_initial...\u001b[32;1m OK\u001b[0m\n",
            "  Applying admin.0001_initial...\u001b[32;1m OK\u001b[0m\n",
            "  Applying admin.0002_logentry_remove_auto_add...\u001b[32;1m OK\u001b[0m\n",
            "  Applying admin.0003_logentry_add_action_flag_choices...\u001b[32;1m OK\u001b[0m\n",
            "  Applying contenttypes.0002_remove_content_type_name...\u001b[32;1m OK\u001b[0m\n",
            "  Applying auth.0002_alter_permission_name_max_length...\u001b[32;1m OK\u001b[0m\n",
            "  Applying auth.0003_alter_user_email_max_length...\u001b[32;1m OK\u001b[0m\n",
            "  Applying auth.0004_alter_user_username_opts...\u001b[32;1m OK\u001b[0m\n",
            "  Applying auth.0005_alter_user_last_login_null...\u001b[32;1m OK\u001b[0m\n",
            "  Applying auth.0006_require_contenttypes_0002...\u001b[32;1m OK\u001b[0m\n",
            "  Applying auth.0007_alter_validators_add_error_messages...\u001b[32;1m OK\u001b[0m\n",
            "  Applying auth.0008_alter_user_username_max_length...\u001b[32;1m OK\u001b[0m\n",
            "  Applying auth.0009_alter_user_last_name_max_length...\u001b[32;1m OK\u001b[0m\n",
            "  Applying auth.0010_alter_group_name_max_length...\u001b[32;1m OK\u001b[0m\n",
            "  Applying auth.0011_update_proxy_permissions...\u001b[32;1m OK\u001b[0m\n",
            "  Applying auth.0012_alter_user_first_name_max_length...\u001b[32;1m OK\u001b[0m\n",
            "  Applying cadastrounivesp.0001_initial...\u001b[32;1m OK\u001b[0m\n",
            "  Applying sessions.0001_initial...\u001b[32;1m OK\u001b[0m\n"
          ],
          "name": "stdout"
        }
      ]
    },
    {
      "cell_type": "markdown",
      "metadata": {
        "id": "Ulb_IHMH4vlR"
      },
      "source": [
        "### **OPCIONAL**. Verificar na **CONSOLE** do DJANGO (*Shell*)\n",
        "O shell do Django é muito útil para testar trechos de código sem\n",
        "ter que executar o servidor inteiro!\n",
        "\n",
        "Vamos testar a adição de um novo funcionário utilizando o shell do\n",
        "Django. Para isso, digite o comando:\n",
        "\n",
        "Codigo em ***CONSOLE***.\n",
        "\n",
        "```\n",
        "python manage.py shell\n",
        "```\n",
        "\n",
        "Logo escriva o codigo a seguir, um codigo por linha:\n",
        "\n",
        "```\n",
        "from portfolio.models import Aluno\n",
        "\n",
        "aluno = Aluno(\n",
        "\tnome='Rodrigo',\n",
        "\tsobrenome='Cesar',\n",
        "\tmatricula='345685',\n",
        ")\n",
        "\n",
        "aluno.save()\n",
        "\n",
        "alunos = Aluno.objetos.all()\n",
        "\n",
        "print(alunos)\n",
        "\n",
        "exit\n",
        "```\n",
        "Com esses codigos é possível adicionar informação à base de dados.\n",
        "\n",
        "O aluno Marcos da Silva será salvo no seu banco de dados!\n",
        "\n"
      ]
    },
    {
      "cell_type": "code",
      "metadata": {
        "id": "ot2PLf8W6CWM"
      },
      "source": [
        "!python manage.py shell"
      ],
      "execution_count": null,
      "outputs": []
    },
    {
      "cell_type": "markdown",
      "metadata": {
        "id": "8_K26Lcc8vzg"
      },
      "source": [
        "## **Camada VIEW**\n",
        "Essa camada tem a responsabilidade de  processar as requisições vindas dos usuários, formar uma resposta e enviá-la de volta ao usuário. É aqui que residem nossas lógicas de negócio!\n",
        "\n",
        "Ou seja, essa camada deve: recepcionar, processar e responder!"
      ]
    },
    {
      "cell_type": "markdown",
      "metadata": {
        "id": "M581UhUt9mEt"
      },
      "source": [
        "### **Roteamento de URLs**\n",
        "A partir da URL que o usuário quer acessar, o Django irá rotear a requisicão para quem irá tratá-la.\n",
        "\n",
        "Os passos descritos a seguir devem ser feitos manualmente. As mudanças tem que ser feitas nos arquivos da pasta do projeto, pode acessar a ela através do menu lateral da esquerda no simbolo de pasta (4o ícone).\n",
        "\n",
        "1. Dessa forma, o arquivo `cadastrounivesp/urls.py` deve conter:\n",
        "\n",
        "```\n",
        "from django.urls.conf import include\n",
        "from django.contrib import admin\n",
        "from django.urls import path\n",
        "\n",
        "urlpatterns = [\n",
        "    path('', include('website.urls', namespace='website')),\n",
        "    path('admin/', admin.site.urls),\n",
        "]\n",
        "```\n",
        "2. Geralmente, existe um arquivo de rotas por app do Django. Portanto, é preciso criar outro arquivo `urls.py` dentro da pasta `/website`.\n",
        "O arquivo `website/urls.py` deve conter:\n",
        "\n",
        "\n",
        "```\n",
        "from django.urls import path\n",
        "from website.views import index, cadastra_aluno,lista_aluno\n",
        "\n",
        "app_name = 'website'\n",
        " \n",
        "urlpatterns = [\n",
        "                  path('', index, name='index'),\n",
        "                  path('aluno/cadastrar', cadastra_aluno, name='cadastra_aluno'),\n",
        "                  path('alunos/', lista_aluno, name='lista_aluno'),\n",
        "              ]\n",
        "```\n",
        "\n"
      ]
    },
    {
      "cell_type": "markdown",
      "metadata": {
        "id": "CNVpVQDYDiRm"
      },
      "source": [
        "### **Definir funções no arquivo Views**\n",
        "As informações estão sendo enviadas usando o método de request GET. \n",
        "\n",
        "***NOTA:*** *Pode ser usado o metodo POST, mas é preciso adicionar várias linhas de código a mais para sua configuração.*\n",
        "\n",
        "O arquivo `website/views.py` deve conter:\n",
        "```\n",
        "from django.shortcuts import render\n",
        "from cadastrounivesp.models import Aluno\n",
        "\n",
        "\n",
        "def index(request):\n",
        "  return render(request, \"website/index.html\")\n",
        "\n",
        "\n",
        "def cadastra_aluno(request):\n",
        "  return render(request, \"website/cadastro.html\")\n",
        "\n",
        "\n",
        "def lista_aluno(request):\n",
        "  # Verificar se existe informação no GET \n",
        "  if len(list(request.GET.values())) > 0:\n",
        "\n",
        "    # Caso que exista então não seja vazia []\n",
        "    if len(list(request.GET.values())[0]) > 0:\n",
        "      \n",
        "      dados_enviados = request.GET\n",
        "      \n",
        "      aluno = Aluno(\n",
        "                      nome = dados_enviados['Nome'],\n",
        "                      sobrenome = dados_enviados['Sobrenome'],\n",
        "                      matricula = dados_enviados['Matricula'],\n",
        "                    )\n",
        "      \n",
        "      aluno.save()\n",
        "    \n",
        "  alunos = Aluno.objetos.all()\n",
        "  \n",
        "  contexto = { 'alunos': alunos }\n",
        "  \n",
        "  return render(request, \"website/lista.html\", contexto)\n",
        "```\n",
        "\n"
      ]
    },
    {
      "cell_type": "markdown",
      "metadata": {
        "id": "C2IbfYoy8DYN"
      },
      "source": [
        "## **Camada TEMPLATES**\n",
        "\n",
        "#### Codigo HTML Index\n",
        "Criar um arquivo `index.html` no `websites/templates/websites`\n",
        "\n",
        "\n",
        "\n",
        "```\n",
        "<!DOCTYPE html>\n",
        "<html lang=\"en\">\n",
        "<title>Sistema de cadastro de matricula</title>\n",
        "<h1 style='color: red;' >UNIVESP - LIVE 4 FPC</h1>\n",
        "<h1>Sistema de cadastro de  matricula</h1>\n",
        "<h3>Disciplina: Formação Profissional em Computação</h3>\n",
        "<h3>Desafio da semana 5</h3>\n",
        "<body>\n",
        "<p>Pode acessar a uns dos links para executar uma das opções. </p>\n",
        "</body>\n",
        "\n",
        "<body>\n",
        "    <h1>Página Inicial</h1>\n",
        "\n",
        "    <ul>\n",
        "        <li><a href=\"{% url 'website:index' %}\">Página Inicial</a></li>\n",
        "        <li><a href=\"{% url 'website:cadastra_aluno' %}\">Cadastrar Aluno</a></li>\n",
        "        <li><a href=\"{% url 'website:lista_aluno' %}\">Lista de Alunos</a></li>\n",
        "    </ul>\n",
        "</body>\n",
        "</html>\n",
        "```\n",
        "\n"
      ]
    },
    {
      "cell_type": "markdown",
      "metadata": {
        "id": "ZYwNDPjSQqgG"
      },
      "source": [
        "#### Codigo HTML Lista de Alunos\n",
        "Criar um arquivo `lista.html` no `websites/templates/websites`\n",
        "\n",
        "```\n",
        "<!DOCTYPE html>\n",
        "<html lang=\"en\">\n",
        "<head>\n",
        "    <meta charset=\"UTF-8\">\n",
        "    <title>Title</title>\n",
        "</head>\n",
        "<body>\n",
        "    <title>Sistema de cadastro de matricula</title>\n",
        "    <h1 style='color: blue;' >UNIVESP - LIVE 4 FPC</h1>\n",
        "    <h1>Sistema de cadastro de  matricula</h1>\n",
        "    <h3>Disciplina: Formação Profissional em Computação</h3>\n",
        "    <h3>Desafio da semana 5</h3>\n",
        "\n",
        "    <h1>Lista de Alunos</h1>\n",
        "\n",
        "    <ul>\n",
        "        <li><a href=\"{% url 'website:index' %}\">Página Inicial</a></li>\n",
        "        <li><a href=\"{% url 'website:cadastra_aluno' %}\">Cadastrar Aluno</a></li>\n",
        "        <li><a href=\"{% url 'website:lista_aluno' %}\">Lista de Alunos</a></li>\n",
        "    </ul>\n",
        "\n",
        "    <div style=\"max-width: 50%;\">\n",
        "        <table style=\"border: 1px solid #BBB; width: 100%;\">\n",
        "            <thead>\n",
        "                <tr style=\"border-bottom: 1px solid #AAA\">\n",
        "                    <td><b>Nome</b></td>\n",
        "                    <td><b>Matricula</b></td>\n",
        "                </tr>\n",
        "            </thead>\n",
        "\n",
        "            <tbody>\n",
        "                {% for aluno in alunos %}\n",
        "                    <tr>\n",
        "                        <td>{{ aluno.nome }} {{ aluno.sobrenome }}</td>\n",
        "                        <td>{{ aluno.matricula }}</td>                        \n",
        "                    </tr>\n",
        "                {% endfor %}\n",
        "            </tbody>\n",
        "        </table>\n",
        "    </div>\n",
        "</body>\n",
        "</html>\n",
        "```\n",
        "\n"
      ]
    },
    {
      "cell_type": "markdown",
      "metadata": {
        "id": "X1q5ZlryRBF4"
      },
      "source": [
        "#### Codigo HTML Cadastro\n",
        "Criar um arquivo `cadastro.html` no `websites/templates`\n",
        "\n",
        "\n",
        "\n",
        "```\n",
        "<!doctype html>\n",
        "\n",
        "  <html>\n",
        "    <title>Sistema de cadastro de matricula</title>\n",
        "    <h1 style='color: green;' >UNIVESP - LIVE 4 FPC</h1>\n",
        "    <h1>Sistema de cadastro de  matricula</h1>\n",
        "    <h3>Disciplina: Formação Profissional em Computação</h3>\n",
        "    <h3>Desafio da semana 5</h3>\n",
        "\n",
        "    <ul>\n",
        "        <li><a href=\"{% url 'website:index' %}\">Página Inicial</a></li>\n",
        "        <li><a href=\"{% url 'website:cadastra_aluno' %}\">Cadastrar Aluno</a></li>\n",
        "        <li><a href=\"{% url 'website:lista_aluno' %}\">Lista de Alunos</a></li>\n",
        "    </ul>\n",
        "\n",
        "    <body>\n",
        "      <p>Digite o seu Nome e matricula e clique no botão enviar \n",
        "        para validar a sua matricula. </p>\n",
        "    </body>\n",
        "\n",
        "\n",
        "  <form action=\"/alunos/\" method=\"get\">\n",
        "      {% csrf_token %}\n",
        "      <label for=\"Nome\">Nome:</label>\n",
        "      <input type=\"text\" id=\"Nome\" name=\"Nome\"><br><br>\n",
        "      <label for=\"Sobrenome\">Sobrenome:</label>\n",
        "      <input type=\"text\" id=\"Sobrenome\" name=\"Sobrenome\"><br><br>\n",
        "      <label for=\"Matricula\">Matricula:</label>\n",
        "      <input type=\"text\" id=\"Matricula\" name=\"Matricula\"><br><br>\n",
        "      <button type=\"submit\">Enviar</button>\n",
        "  </form>\n",
        "\n",
        "</html>\n",
        "```\n",
        "\n"
      ]
    },
    {
      "cell_type": "markdown",
      "metadata": {
        "id": "ryXBLGXSPLNp"
      },
      "source": [
        "## **Executar o SERVER**\n",
        "Executar o server para colocar online o site:"
      ]
    },
    {
      "cell_type": "markdown",
      "metadata": {
        "id": "2jniEkcyGxkn"
      },
      "source": [
        "### **Criar o endereço web do site**\n",
        "\n",
        "O arquivo `cadastrounivesp/settins.py` deve conter:\n",
        "\n",
        "`ALLOWED_HOSTS = ['colab.research.google.com']`\n",
        "\n",
        "***NOTA:*** *Executar as duas células de codigos a seguir, e só depois é possivel acessar ao link criado pelo proxy do google colab.*"
      ]
    },
    {
      "cell_type": "code",
      "metadata": {
        "colab": {
          "base_uri": "https://localhost:8080/",
          "height": 34
        },
        "id": "Flua8DeV8tRN",
        "outputId": "e0da695b-e658-4215-aea2-43949a4d0c9e"
      },
      "source": [
        "from google.colab.output import eval_js\n",
        "print(eval_js(\"google.colab.kernel.proxyPort(8000)\"))"
      ],
      "execution_count": 13,
      "outputs": [
        {
          "output_type": "stream",
          "text": [
            "https://n79r51znx5k-496ff2e9c6d22116-8000-colab.googleusercontent.com/\n"
          ],
          "name": "stdout"
        }
      ]
    },
    {
      "cell_type": "code",
      "metadata": {
        "colab": {
          "base_uri": "https://localhost:8080/"
        },
        "id": "db81-60Q9oX1",
        "outputId": "3a0b337c-6786-4d95-c5eb-60c9440dc042"
      },
      "source": [
        "!python manage.py runserver 8000"
      ],
      "execution_count": 14,
      "outputs": [
        {
          "output_type": "stream",
          "text": [
            "Watching for file changes with StatReloader\n",
            "Performing system checks...\n",
            "\n",
            "System check identified no issues (0 silenced).\n",
            "April 07, 2021 - 00:27:40\n",
            "Django version 3.2, using settings 'cadastrounivesp.settings'\n",
            "Starting development server at http://127.0.0.1:8000/\n",
            "Quit the server with CONTROL-C.\n",
            "[07/Apr/2021 00:27:43] \u001b[m\"GET / HTTP/1.1\" 200 592\u001b[0m\n",
            "Not Found: /favicon.ico\n",
            "[07/Apr/2021 00:27:44] \u001b[33m\"GET /favicon.ico HTTP/1.1\" 404 2535\u001b[0m\n",
            "[07/Apr/2021 00:27:45] \u001b[m\"GET /aluno/cadastrar HTTP/1.1\" 200 1162\u001b[0m\n",
            "Not Found: /favicon.ico\n",
            "[07/Apr/2021 00:27:46] \u001b[33m\"GET /favicon.ico HTTP/1.1\" 404 2535\u001b[0m\n",
            "[07/Apr/2021 00:27:47] \u001b[m\"GET / HTTP/1.1\" 200 592\u001b[0m\n",
            "Not Found: /favicon.ico\n",
            "[07/Apr/2021 00:27:48] \u001b[33m\"GET /favicon.ico HTTP/1.1\" 404 2535\u001b[0m\n",
            "[07/Apr/2021 00:27:49] \u001b[m\"GET /alunos/ HTTP/1.1\" 200 990\u001b[0m\n",
            "Not Found: /favicon.ico\n",
            "[07/Apr/2021 00:27:49] \u001b[33m\"GET /favicon.ico HTTP/1.1\" 404 2535\u001b[0m\n",
            "[07/Apr/2021 00:28:03] \u001b[m\"GET /aluno/cadastrar HTTP/1.1\" 200 1162\u001b[0m\n",
            "Not Found: /favicon.ico\n",
            "[07/Apr/2021 00:28:04] \u001b[33m\"GET /favicon.ico HTTP/1.1\" 404 2535\u001b[0m\n",
            "[07/Apr/2021 00:28:31] \u001b[m\"GET /alunos/?Matricula=256985&Nome=Marcelo&Sobrenome=Kashari&csrfmiddlewaretoken=lqjmliDqjY234pP3L3CyPdcRiDqj3Mp7eRIQBz3rIs1LkTnVaO9vIWdGI27hVL4M HTTP/1.1\" 200 1171\u001b[0m\n",
            "Not Found: /favicon.ico\n",
            "[07/Apr/2021 00:28:32] \u001b[33m\"GET /favicon.ico HTTP/1.1\" 404 2535\u001b[0m\n",
            "[07/Apr/2021 00:28:39] \u001b[m\"GET /aluno/cadastrar HTTP/1.1\" 200 1162\u001b[0m\n",
            "Not Found: /favicon.ico\n",
            "[07/Apr/2021 00:28:40] \u001b[33m\"GET /favicon.ico HTTP/1.1\" 404 2535\u001b[0m\n",
            "[07/Apr/2021 00:28:56] \u001b[m\"GET /alunos/?Matricula=321452&Nome=Heitor&Sobrenome=Eiras+Garcia&csrfmiddlewaretoken=Pw2OrZvrZ0gformU9PtwOMQf38OLGx9WAs9vFZgmFtDcxDqgBmafnpeURRK8dbfX HTTP/1.1\" 200 1356\u001b[0m\n",
            "Not Found: /favicon.ico\n",
            "[07/Apr/2021 00:28:57] \u001b[33m\"GET /favicon.ico HTTP/1.1\" 404 2535\u001b[0m\n",
            "[07/Apr/2021 00:29:02] \u001b[m\"GET / HTTP/1.1\" 200 592\u001b[0m\n",
            "Not Found: /favicon.ico\n",
            "[07/Apr/2021 00:29:02] \u001b[33m\"GET /favicon.ico HTTP/1.1\" 404 2535\u001b[0m\n",
            "[07/Apr/2021 00:29:03] \u001b[m\"GET /alunos/ HTTP/1.1\" 200 1356\u001b[0m\n",
            "Not Found: /favicon.ico\n",
            "[07/Apr/2021 00:29:04] \u001b[33m\"GET /favicon.ico HTTP/1.1\" 404 2535\u001b[0m\n"
          ],
          "name": "stdout"
        }
      ]
    },
    {
      "cell_type": "code",
      "metadata": {
        "id": "MTlc62Fx4Jlc"
      },
      "source": [
        ""
      ],
      "execution_count": null,
      "outputs": []
    }
  ]
}