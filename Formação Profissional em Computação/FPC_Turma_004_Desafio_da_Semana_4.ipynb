{
  "nbformat": 4,
  "nbformat_minor": 0,
  "metadata": {
    "colab": {
      "name": "FPC-Turma 004-Desafio da Semana 4.ipynb",
      "provenance": [],
      "collapsed_sections": [],
      "toc_visible": true
    },
    "kernelspec": {
      "name": "python3",
      "display_name": "Python 3"
    }
  },
  "cells": [
    {
      "cell_type": "markdown",
      "metadata": {
        "id": "21qfGzIM_Szw"
      },
      "source": [
        "# **DESAFIO DA SEMANA 4​**\n",
        "\n",
        "Desenvolver um web crawler básico que visite sistematicamente as páginas Web da Univesp, seguindo hyperlinks da página principal. Para cada página visitada, o programa deverá contabilizar a frequência de cada palavra contida na página."
      ]
    },
    {
      "cell_type": "markdown",
      "metadata": {
        "id": "xfWs4_oCGXAb"
      },
      "source": [
        "# USO DE BIBLIOTECAS ESPECIFICAS"
      ]
    },
    {
      "cell_type": "markdown",
      "metadata": {
        "id": "y9ajce49ptXA"
      },
      "source": [
        "## CODIGO COMPLETO"
      ]
    },
    {
      "cell_type": "code",
      "metadata": {
        "id": "PCN_Lj_VpmO5",
        "colab": {
          "base_uri": "https://localhost:8080/"
        },
        "outputId": "e3e05ecf-ef29-4b3b-bdb2-5752f38f8efa"
      },
      "source": [
        "# Biblioteca usadas para criar a comunicação com o site\n",
        "from urllib.request import Request, urlopen\n",
        "\n",
        "# Biblioteca usadas para extrair os links do site\n",
        "from urllib.parse import urljoin\n",
        "from html.parser import HTMLParser\n",
        "\n",
        "# Bibliotecas para estruturar as informações\n",
        "from collections import Counter\n",
        "import pandas as pd\n",
        "\n",
        "class Collector(HTMLParser):\n",
        "    'coleta URLs de hyperklink em uma lista'\n",
        "    def __init__(self, url):\n",
        "        'inicializa analisador, o URL e uma lista'\n",
        "        HTMLParser.__init__(self)\n",
        "        self.url = url\n",
        "        self.links = []\n",
        "\n",
        "    def handle_starttag(self, tag, attrs):\n",
        "        'coleta URLs de hyperlink em sua forma absoluta'\n",
        "        if tag == 'a':\n",
        "            for attr in attrs:\n",
        "                if attr[0] == 'href':\n",
        "                    # constrói URL absoluto\n",
        "                    absolute = urljoin(self.url, attr[1])\n",
        "                    if absolute[:4] == 'http': # coleta URLs HTTP\n",
        "                        self.links.append(absolute)\n",
        "\n",
        "    def getLinks(self):\n",
        "        'retorna URLs de hyperlink em seu formato absoluto'\n",
        "        return self.links\n",
        "\n",
        "\n",
        "def analyze(url):\n",
        "    \"\"\"retorna a lista de links http, em formato absoluto,\n",
        "        na página Web com URL url\"\"\"\n",
        "\n",
        "    print('Visitando', url) # Mostra o link que vai ser usado para analise\n",
        "    # cria a estrutura para comunicação com o site\n",
        "    req = Request(url, headers={'User-Agent': 'Mozilla/5.0'})\n",
        "\n",
        "    # estabelece a comunicação com o site\n",
        "    content = urlopen(req).read().decode()\n",
        "\n",
        "    # Contagem das palavras da pagina web\n",
        "    palavras_count = dict(Counter(content.split(' ')))\n",
        "    palavras_pd = pd.DataFrame.from_dict(palavras_count, orient='index',columns=['Palavras'])\n",
        "    palavras_sort = palavras_pd.sort_values(by=['Palavras'], ascending=False).head(15)\n",
        "    print('Contagem das Palavras do Site:\\n', palavras_sort)\n",
        "\n",
        "    # Analisador para obter os links da página Web\n",
        "    collector = Collector(url)\n",
        "    collector.feed(content)\n",
        "    all_urls = collector.getLinks()       # urls é a lista de links\n",
        "\n",
        "    return all_urls\n",
        "\n",
        "links_visitados = set()\n",
        "\n",
        "def crawl(url, maxlinks=20, externalLink=False):\n",
        "    'crawler Web RECURSIVA que chama analyze() em cada página Web'\n",
        "    # inclui url para conjunto de páginas visitadas\n",
        "    global links_visitados       # embora não necessário, avisa ao programador\n",
        "    links_visitados.add(url)\n",
        "    if (len(links_visitados)>=maxlinks):\n",
        "        return\n",
        "    # analyze() retorna uma lista de URLs de hyperlink no URL da página Web\n",
        "    links = analyze(url)\n",
        "    # continua recursivamente a verificação de cada link em links\n",
        "    for link in links:\n",
        "        if (externalLink):\n",
        "            follow = externalLink\n",
        "        else: follow = str(link).find(uri)>=0\n",
        "        if (link not in links_visitados) and follow:\n",
        "            try: # bloco try porque o link pode não ser um arquivo HTML válido\n",
        "                crawl(link, maxlinks, externalLink)\n",
        "            except:            # se uma exceção for lançada\n",
        "                pass           # ignora e prossegue.\n",
        "\n",
        "\n",
        "uri='http://univesp.br/'\n",
        "links = analyze(uri)\n",
        "crawl(uri, maxlinks=10, externalLink=False)"
      ],
      "execution_count": null,
      "outputs": [
        {
          "output_type": "stream",
          "text": [
            "Visitando http://univesp.br/\n",
            "Contagem das Palavras do Site:\n",
            "                      Palavras\n",
            "                         1867\n",
            "\\n                         49\n",
            "<div                       45\n",
            "<a                         28\n",
            "</div>\\n                   28\n",
            "\\n\\n                       22\n",
            "de                         19\n",
            "Univesp                    14\n",
            "da                         12\n",
            "<h4                        10\n",
            "class=\"fa                  10\n",
            "<img                       10\n",
            "por                        10\n",
            "<li                         9\n",
            "class=\"nav-item\">\\n         9\n",
            "Visitando http://univesp.br/\n",
            "Contagem das Palavras do Site:\n",
            "                      Palavras\n",
            "                         1867\n",
            "\\n                         49\n",
            "<div                       45\n",
            "<a                         28\n",
            "</div>\\n                   28\n",
            "\\n\\n                       22\n",
            "de                         19\n",
            "Univesp                    14\n",
            "da                         12\n",
            "<h4                        10\n",
            "class=\"fa                  10\n",
            "<img                       10\n",
            "por                        10\n",
            "<li                         9\n",
            "class=\"nav-item\">\\n         9\n",
            "Visitando http://univesp.br/vestibular\n",
            "Contagem das Palavras do Site:\n",
            "                      Palavras\n",
            "                         1156\n",
            "\\n                         43\n",
            "<a                         25\n",
            "de                         22\n",
            "Univesp                    21\n",
            "\\n\\n                       18\n",
            "<div                       18\n",
            "por                        10\n",
            "title=\"Link:               10\n",
            "class=\"fa                   9\n",
            "class=\"nav-item\">\\n         9\n",
            "<li                         9\n",
            "</li>\\n                     9\n",
            "Elas                        8\n",
            "<img                        8\n",
            "Visitando http://univesp.br/cursos\n",
            "Contagem das Palavras do Site:\n",
            "                Palavras\n",
            "                   2871\n",
            "\\n                   80\n",
            "<div                 57\n",
            "</div>\\n             43\n",
            "<a                   39\n",
            "de                   29\n",
            "do                   25\n",
            "em                   24\n",
            "<img                 21\n",
            "class=\"col-12        19\n",
            "\\n\\n                 19\n",
            "<p                   19\n",
            "</a>\\n               16\n",
            "curso                15\n",
            "alt=\"Banner          14\n",
            "Visitando http://univesp.br/polos\n",
            "Contagem das Palavras do Site:\n",
            "                            Palavras\n",
            "                             126306\n",
            "\\n                             8757\n",
            "<span                          2539\n",
            "em                             1546\n",
            "-                              1382\n",
            "de                             1267\n",
            "class=\"fa                      1131\n",
            "30px\"                          1122\n",
            "<p><span                       1122\n",
            "style=\"width:                  1122\n",
            "class=\"curso\">Bacharelado       712\n",
            "class=\"curso\">Engenharia        629\n",
            "Tecnologia                      444\n",
            "da                              425\n",
            "<div                            399\n",
            "Visitando http://univesp.br/institucional\n",
            "Contagem das Palavras do Site:\n",
            "                      Palavras\n",
            "                         1391\n",
            "\\n                         55\n",
            "<a                         36\n",
            "de                         24\n",
            "</li>\\n                    20\n",
            "class=\"nav-item\">\\n        20\n",
            "<li                        20\n",
            "class=\"nav-link\"           19\n",
            "<div                       19\n",
            "\\n\\n                       17\n",
            "Univesp                    14\n",
            "por                        10\n",
            "do                         10\n",
            "class=\"fa                   9\n",
            "a                           9\n",
            "Visitando http://univesp.br/transparencia\n",
            "Contagem das Palavras do Site:\n",
            "                      Palavras\n",
            "                         1491\n",
            "\\n                         59\n",
            "<a                         41\n",
            "de                         27\n",
            "class=\"nav-item\">\\n        25\n",
            "<li                        25\n",
            "</li>\\n                    25\n",
            "class=\"nav-link\"           24\n",
            "<div                       19\n",
            "\\n\\n                       18\n",
            "Univesp                    13\n",
            "da                         11\n",
            "a                          11\n",
            "por                        11\n",
            "class=\"fa                  10\n",
            "Visitando http://univesp.br/transparencia/bolsa-eletronica-de-compras-bec\n",
            "Contagem das Palavras do Site:\n",
            "                      Palavras\n",
            "                         1492\n",
            "\\n                         59\n",
            "<a                         42\n",
            "</li>\\n                    25\n",
            "class=\"nav-item\">\\n        25\n",
            "<li                        25\n",
            "class=\"nav-link\"           24\n",
            "de                         20\n",
            "<div                       19\n",
            "\\n\\n                       18\n",
            "Univesp                    13\n",
            "class=\"fa                  10\n",
            "por                        10\n",
            "Elas                        8\n",
            "<h4                         7\n",
            "Visitando http://univesp.br/transparencia/bolsas\n",
            "Contagem das Palavras do Site:\n",
            "                 Palavras\n",
            "                    4900\n",
            "de                   361\n",
            "-                    238\n",
            "\\n                   185\n",
            "\\n\\n                 145\n",
            "rel=\"nofollow\"       130\n",
            "<a                   106\n",
            "para                  98\n",
            "e                     96\n",
            "<p                    77\n",
            "em                    73\n",
            "a                     70\n",
            "do                    68\n",
            "no                    63\n",
            "da                    60\n",
            "Visitando http://univesp.br/sites/58f6506869226e9479d38201/assets/5e4edaa37c1bd1571deb68d6/Programa_de_Bolsas.pdf\n"
          ],
          "name": "stdout"
        }
      ]
    },
    {
      "cell_type": "markdown",
      "metadata": {
        "id": "mlA1oBawpzY5"
      },
      "source": [
        "## CODIGO POR PARTE"
      ]
    },
    {
      "cell_type": "code",
      "metadata": {
        "id": "Hf1orz4oFSP_"
      },
      "source": [
        "# Biblioteca usadas para criar a comunicação com o site\n",
        "from urllib.request import Request, urlopen\n",
        "\n",
        "# Biblioteca usadas para extrair os links do site\n",
        "from urllib.parse import urljoin\n",
        "from html.parser import HTMLParser\n",
        "\n",
        "# Bibliotecas para estruturar as informações\n",
        "from collections import Counter\n",
        "import pandas as pd"
      ],
      "execution_count": null,
      "outputs": []
    },
    {
      "cell_type": "markdown",
      "metadata": {
        "id": "Mw9wUG1vhven"
      },
      "source": [
        "#### Documentação de ajuda das Bibliotecas"
      ]
    },
    {
      "cell_type": "code",
      "metadata": {
        "colab": {
          "base_uri": "https://localhost:8080/"
        },
        "id": "ZuD1A_16h4e7",
        "outputId": "dff40860-97df-4dc5-e852-de8cca683824"
      },
      "source": [
        "print(HTMLParser.__doc__)"
      ],
      "execution_count": null,
      "outputs": [
        {
          "output_type": "stream",
          "text": [
            "Find tags and other markup and call handler functions.\n",
            "\n",
            "    Usage:\n",
            "        p = HTMLParser()\n",
            "        p.feed(data)\n",
            "        ...\n",
            "        p.close()\n",
            "\n",
            "    Start tags are handled by calling self.handle_starttag() or\n",
            "    self.handle_startendtag(); end tags by self.handle_endtag().  The\n",
            "    data between tags is passed from the parser to the derived class\n",
            "    by calling self.handle_data() with the data as argument (the data\n",
            "    may be split up in arbitrary chunks).  If convert_charrefs is\n",
            "    True the character references are converted automatically to the\n",
            "    corresponding Unicode character (and self.handle_data() is no\n",
            "    longer split in chunks), otherwise they are passed by calling\n",
            "    self.handle_entityref() or self.handle_charref() with the string\n",
            "    containing respectively the named or numeric reference as the\n",
            "    argument.\n",
            "    \n"
          ],
          "name": "stdout"
        }
      ]
    },
    {
      "cell_type": "markdown",
      "metadata": {
        "id": "HQxA8rfdh4_y"
      },
      "source": [
        "#### Criar a Classe para analise do HTML"
      ]
    },
    {
      "cell_type": "code",
      "metadata": {
        "id": "3moQvDiSiAOZ"
      },
      "source": [
        "class Collector(HTMLParser):\n",
        "    'coleta URLs de hyperklink em uma lista'\n",
        "    def __init__(self, url):\n",
        "        'inicializa analisador, o URL e uma lista'\n",
        "        HTMLParser.__init__(self)\n",
        "        self.url = url\n",
        "        self.links = []\n",
        "\n",
        "    def handle_starttag(self, tag, attrs):\n",
        "        'coleta URLs de hyperlink em sua forma absoluta'\n",
        "        if tag == 'a':\n",
        "            for attr in attrs:\n",
        "                if attr[0] == 'href':\n",
        "                    # constrói URL absoluto\n",
        "                    absolute = urljoin(self.url, attr[1])\n",
        "                    if absolute[:4] == 'http': # coleta URLs HTTP\n",
        "                        self.links.append(absolute)\n",
        "\n",
        "    def getLinks(self):\n",
        "        'retorna URLs de hyperlink em seu formato absoluto'\n",
        "        return self.links"
      ],
      "execution_count": null,
      "outputs": []
    },
    {
      "cell_type": "markdown",
      "metadata": {
        "id": "b6eBu-Teickj"
      },
      "source": [
        "#### Conectar com o site web a ser analisado e pegar os datos"
      ]
    },
    {
      "cell_type": "code",
      "metadata": {
        "id": "8xSt8tTWikuV"
      },
      "source": [
        "url = 'http://univesp.br/'\n",
        "# cria a estrutura para comunicação com o site\n",
        "req = Request(url, headers={'User-Agent': 'Mozilla/5.0'})\n",
        "\n",
        "# estabelece a comunicação com o site\n",
        "content = urlopen(req).read().decode()"
      ],
      "execution_count": null,
      "outputs": []
    },
    {
      "cell_type": "markdown",
      "metadata": {
        "id": "6tyLO8JhjxOS"
      },
      "source": [
        "#### Analise das palavras do site"
      ]
    },
    {
      "cell_type": "code",
      "metadata": {
        "colab": {
          "base_uri": "https://localhost:8080/"
        },
        "id": "e4j19sGLirYX",
        "outputId": "fca2235f-81cc-486a-cacc-3b8f827c6fa4"
      },
      "source": [
        "# Contagem das palavras da pagina web\n",
        "palavras_count = dict(Counter(content.split(' ')))\n",
        "palavras_pd = pd.DataFrame.from_dict(palavras_count, orient='index',columns=['Palavras'])\n",
        "palavras_sort = palavras_pd.sort_values(by=['Palavras'], ascending=False).head(15)\n",
        "print('Contagem das 15 Palavras mais usadas do Site:\\n', palavras_sort)"
      ],
      "execution_count": null,
      "outputs": [
        {
          "output_type": "stream",
          "text": [
            "Contagem das 15 Palavras mais usadas do Site:\n",
            "                      Palavras\n",
            "                         1867\n",
            "\\n                         49\n",
            "<div                       45\n",
            "<a                         28\n",
            "</div>\\n                   28\n",
            "\\n\\n                       22\n",
            "de                         19\n",
            "Univesp                    14\n",
            "da                         12\n",
            "<h4                        10\n",
            "class=\"fa                  10\n",
            "<img                       10\n",
            "por                        10\n",
            "<li                         9\n",
            "class=\"nav-item\">\\n         9\n"
          ],
          "name": "stdout"
        }
      ]
    },
    {
      "cell_type": "markdown",
      "metadata": {
        "id": "DunSJSmbkPpF"
      },
      "source": [
        "#### Analise do HTML para extrair os links do site."
      ]
    },
    {
      "cell_type": "code",
      "metadata": {
        "colab": {
          "base_uri": "https://localhost:8080/"
        },
        "id": "Zfk66JxPit56",
        "outputId": "2763e5da-3591-4fec-f60d-f900193ee68a"
      },
      "source": [
        "# Analisador para obter os links da página Web\n",
        "collector = Collector(url)\n",
        "collector.feed(content)\n",
        "all_urls = collector.getLinks() \n",
        "\n",
        "for link in all_urls: print(link)"
      ],
      "execution_count": null,
      "outputs": [
        {
          "output_type": "stream",
          "text": [
            "http://univesp.br/\n",
            "http://univesp.br/vestibular\n",
            "http://univesp.br/cursos\n",
            "http://univesp.br/polos\n",
            "http://univesp.br/institucional\n",
            "http://univesp.br/transparencia\n",
            "http://intranet.univesp.br/\n",
            "https://ava.univesp.br/\n",
            "https://apps.univesp.br/repositorio/plano-de-aula/\n",
            "http://apps.univesp.br/repositorio/\n",
            "https://apps.univesp.br/manual-do-aluno/\n",
            "http://univesp.br/noticias/gestao-publica-e-tema-de-encerramento-do-programa-univesp-por-elas-2021\n",
            "http://univesp.br/noticias/gestao-publica-e-tema-de-encerramento-do-programa-univesp-por-elas-2021\n",
            "http://univesp.br/noticias/vestibular-univesp-2021\n",
            "http://univesp.br/noticias/vestibular-univesp-2021\n",
            "http://univesp.br/noticias/engenharia-de-producao-e-o-proximo-tema-do-programa-univesp-por-elas\n",
            "http://univesp.br/noticias/programa-univesp-por-elas-recebe-a-secretaria-celia-leao\n",
            "http://univesp.br/noticias/programa-univesp-por-elas-aborda-literatura-e-carreira-na-licenciatura\n",
            "http://univesp.br/noticias/polo-de-pirassununga-arrecada-alimentos-para-familias-em-situacao-de-vulnerabilidade-social\n",
            "http://univesp.br/noticias/programa-univesp-por-elas-estreia-na-proxima-segunda\n",
            "https://www.facebook.com/pages/UNIVESP-Universidade-Virtual-do-Estado-de-S%C3%A3o-Paulo/1506859409552887\n",
            "https://www.instagram.com/univespoficial/\n",
            "https://www.youtube.com/channel/UCBL2tfrwhEhX52Dze_aO3zA\n"
          ],
          "name": "stdout"
        }
      ]
    },
    {
      "cell_type": "markdown",
      "metadata": {
        "id": "REHYk7uOiKeY"
      },
      "source": [
        "#### Criar a função para comunicação com o site e analise dos links contídos e a contagem de palavras."
      ]
    },
    {
      "cell_type": "code",
      "metadata": {
        "id": "kguK53pxiU0A"
      },
      "source": [
        "def analyze(url):\n",
        "    \"\"\"retorna a lista de links http, em formato absoluto,\n",
        "        na página Web com URL url\"\"\"\n",
        "\n",
        "    print('Visitando', url) # Mostra o link que vai ser usado para analise\n",
        "    # cria a estrutura para comunicação com o site\n",
        "    req = Request(url, headers={'User-Agent': 'Mozilla/5.0'})\n",
        "\n",
        "    # estabelece a comunicação com o site\n",
        "    content = urlopen(req).read().decode()\n",
        "\n",
        "    # Contagem das palavras da pagina web\n",
        "    palavras_count = dict(Counter(content.split(' ')))\n",
        "    palavras_pd = pd.DataFrame.from_dict(palavras_count, orient='index',columns=['Palavras'])\n",
        "    palavras_sort = palavras_pd.sort_values(by=['Palavras'], ascending=False).head(15)\n",
        "    print('Contagem das Palavras do Site:\\n', palavras_sort)\n",
        "\n",
        "    # Analisador para obter os links da página Web\n",
        "    collector = Collector(url)\n",
        "    collector.feed(content)\n",
        "    all_urls = collector.getLinks()       # urls é a lista de links\n",
        "\n",
        "    return all_urls\n"
      ],
      "execution_count": null,
      "outputs": []
    },
    {
      "cell_type": "code",
      "metadata": {
        "colab": {
          "base_uri": "https://localhost:8080/"
        },
        "id": "NUI11VJZmt6L",
        "outputId": "94e7925a-9c7c-46b7-eeae-7c6ae5bbab02"
      },
      "source": [
        "uri='http://univesp.br/'\n",
        "links = analyze(uri)"
      ],
      "execution_count": null,
      "outputs": [
        {
          "output_type": "stream",
          "text": [
            "Visitando http://univesp.br/\n",
            "Contagem das Palavras do Site:\n",
            "                      Palavras\n",
            "                         1867\n",
            "\\n                         49\n",
            "<div                       45\n",
            "<a                         28\n",
            "</div>\\n                   28\n",
            "\\n\\n                       22\n",
            "de                         19\n",
            "Univesp                    14\n",
            "da                         12\n",
            "<h4                        10\n",
            "class=\"fa                  10\n",
            "<img                       10\n",
            "por                        10\n",
            "<li                         9\n",
            "class=\"nav-item\">\\n         9\n"
          ],
          "name": "stdout"
        }
      ]
    },
    {
      "cell_type": "markdown",
      "metadata": {
        "id": "adkkB_xxlJ9t"
      },
      "source": [
        "Criar a função recursiva para acessar aos links dos links do site root"
      ]
    },
    {
      "cell_type": "code",
      "metadata": {
        "id": "Aybq6I3UnQOn"
      },
      "source": [
        "links_visitados = set()"
      ],
      "execution_count": null,
      "outputs": []
    },
    {
      "cell_type": "code",
      "metadata": {
        "id": "pEdvWjz8mfuc"
      },
      "source": [
        "def crawl(url, maxlinks=20, externalLink=False):\n",
        "    'crawler Web RECURSIVA que chama analyze() em cada página Web'\n",
        "    # inclui url para conjunto de páginas visitadas\n",
        "    global links_visitados       # embora não necessário, avisa ao programador\n",
        "    links_visitados.add(url)\n",
        "    if (len(links_visitados)>=maxlinks):\n",
        "        return\n",
        "    # analyze() retorna uma lista de URLs de hyperlink no URL da página Web\n",
        "    links = analyze(url)\n",
        "    # continua recursivamente a verificação de cada link em links\n",
        "    for link in links:\n",
        "        if (externalLink):\n",
        "            follow = externalLink\n",
        "        else: follow = str(link).find(uri)>=0\n",
        "        if (link not in links_visitados) and follow:\n",
        "            try: # bloco try porque o link pode não ser um arquivo HTML válido\n",
        "                crawl(link)\n",
        "            except:            # se uma exceção for lançada\n",
        "                pass           # ignora e prossegue.\n"
      ],
      "execution_count": null,
      "outputs": []
    },
    {
      "cell_type": "code",
      "metadata": {
        "colab": {
          "base_uri": "https://localhost:8080/"
        },
        "id": "kaZ_lyHjmmCQ",
        "outputId": "45f0308a-82e8-4654-9f9e-19a073b17006"
      },
      "source": [
        "uri='http://univesp.br/'\n",
        "crawl(uri, maxlinks=10, externalLink=False)"
      ],
      "execution_count": null,
      "outputs": [
        {
          "output_type": "stream",
          "text": [
            "Visitando http://univesp.br/\n",
            "Contagem das Palavras do Site:\n",
            "                      Palavras\n",
            "                         1867\n",
            "\\n                         49\n",
            "<div                       45\n",
            "<a                         28\n",
            "</div>\\n                   28\n",
            "\\n\\n                       22\n",
            "de                         19\n",
            "Univesp                    14\n",
            "da                         12\n",
            "<h4                        10\n",
            "class=\"fa                  10\n",
            "<img                       10\n",
            "por                        10\n",
            "<li                         9\n",
            "class=\"nav-item\">\\n         9\n",
            "Visitando http://univesp.br/vestibular\n",
            "Contagem das Palavras do Site:\n",
            "                      Palavras\n",
            "                         1156\n",
            "\\n                         43\n",
            "<a                         25\n",
            "de                         22\n",
            "Univesp                    21\n",
            "\\n\\n                       18\n",
            "<div                       18\n",
            "por                        10\n",
            "title=\"Link:               10\n",
            "class=\"fa                   9\n",
            "class=\"nav-item\">\\n         9\n",
            "<li                         9\n",
            "</li>\\n                     9\n",
            "Elas                        8\n",
            "<img                        8\n",
            "Visitando http://univesp.br/cursos\n",
            "Contagem das Palavras do Site:\n",
            "                Palavras\n",
            "                   2871\n",
            "\\n                   80\n",
            "<div                 57\n",
            "</div>\\n             43\n",
            "<a                   39\n",
            "de                   29\n",
            "do                   25\n",
            "em                   24\n",
            "<img                 21\n",
            "class=\"col-12        19\n",
            "\\n\\n                 19\n",
            "<p                   19\n",
            "</a>\\n               16\n",
            "curso                15\n",
            "alt=\"Banner          14\n",
            "Visitando http://univesp.br/polos\n",
            "Contagem das Palavras do Site:\n",
            "                            Palavras\n",
            "                             126306\n",
            "\\n                             8757\n",
            "<span                          2539\n",
            "em                             1546\n",
            "-                              1382\n",
            "de                             1267\n",
            "class=\"fa                      1131\n",
            "30px\"                          1122\n",
            "<p><span                       1122\n",
            "style=\"width:                  1122\n",
            "class=\"curso\">Bacharelado       712\n",
            "class=\"curso\">Engenharia        629\n",
            "Tecnologia                      444\n",
            "da                              425\n",
            "<div                            399\n",
            "Visitando http://univesp.br/institucional\n",
            "Contagem das Palavras do Site:\n",
            "                      Palavras\n",
            "                         1391\n",
            "\\n                         55\n",
            "<a                         36\n",
            "de                         24\n",
            "</li>\\n                    20\n",
            "class=\"nav-item\">\\n        20\n",
            "<li                        20\n",
            "class=\"nav-link\"           19\n",
            "<div                       19\n",
            "\\n\\n                       17\n",
            "Univesp                    14\n",
            "por                        10\n",
            "do                         10\n",
            "class=\"fa                   9\n",
            "a                           9\n",
            "Visitando http://univesp.br/transparencia\n",
            "Contagem das Palavras do Site:\n",
            "                      Palavras\n",
            "                         1491\n",
            "\\n                         59\n",
            "<a                         41\n",
            "de                         27\n",
            "class=\"nav-item\">\\n        25\n",
            "<li                        25\n",
            "</li>\\n                    25\n",
            "class=\"nav-link\"           24\n",
            "<div                       19\n",
            "\\n\\n                       18\n",
            "Univesp                    13\n",
            "da                         11\n",
            "a                          11\n",
            "por                        11\n",
            "class=\"fa                  10\n",
            "Visitando http://univesp.br/transparencia/bolsa-eletronica-de-compras-bec\n",
            "Contagem das Palavras do Site:\n",
            "                      Palavras\n",
            "                         1492\n",
            "\\n                         59\n",
            "<a                         42\n",
            "</li>\\n                    25\n",
            "class=\"nav-item\">\\n        25\n",
            "<li                        25\n",
            "class=\"nav-link\"           24\n",
            "de                         20\n",
            "<div                       19\n",
            "\\n\\n                       18\n",
            "Univesp                    13\n",
            "class=\"fa                  10\n",
            "por                        10\n",
            "Elas                        8\n",
            "<h4                         7\n",
            "Visitando http://univesp.br/transparencia/bolsas\n",
            "Contagem das Palavras do Site:\n",
            "                 Palavras\n",
            "                    4900\n",
            "de                   361\n",
            "-                    238\n",
            "\\n                   185\n",
            "\\n\\n                 145\n",
            "rel=\"nofollow\"       130\n",
            "<a                   106\n",
            "para                  98\n",
            "e                     96\n",
            "<p                    77\n",
            "em                    73\n",
            "a                     70\n",
            "do                    68\n",
            "no                    63\n",
            "da                    60\n",
            "Visitando http://univesp.br/sites/58f6506869226e9479d38201/assets/5e4edaa37c1bd1571deb68d6/Programa_de_Bolsas.pdf\n",
            "Visitando http://univesp.br/sites/58f6506869226e9479d38201/assets/5dde7dac7c1bd15cf783c77c/Bolsa_TT4_e_TT5.pdf\n",
            "Visitando http://univesp.br/sites/58f6506869226e9479d38201/assets/5e29a81e7c1bd1571deb6547/D.O._TT4-A_e_TT5.pdf\n",
            "Visitando http://univesp.br/sites/58f6506869226e9479d38201/assets/5e3876ae7c1bd10d79e05dc3/Recursos.pdf\n",
            "Visitando http://univesp.br/sites/58f6506869226e9479d38201/assets/5e59151f7c1bd17d32f6f443/14.pdf\n",
            "Visitando http://univesp.br/sites/58f6506869226e9479d38201/assets/5e59151f7c1bd17d32f6f442/15.pdf\n",
            "Visitando http://univesp.br/sites/58f6506869226e9479d38201/assets/5e6008f47c1bd17d32f6f465/Minuta_para_nova_convoca__o_da_publica__o_de_convoca__o_dos_bolsistas_TT4.pdf \n",
            "Visitando http://univesp.br/sites/58f6506869226e9479d38201/assets/5e99f9767c1bd17c14282bec/Comunicado_.pdf\n",
            "Visitando http://univesp.br/sites/58f6506869226e9479d38201/assets/5aa2f6fe69226eb232ab3e95/Edital_de_supervisa_o_OP_-_fevereiro_de_2018__2_.pdf\n",
            "Visitando http://univesp.br/sites/58f6506869226e9479d38201/assets/5aa2f6f469226e07523016e1/Construc_a_o_e_submissa_o_do_Projeto.pdf\n",
            "Visitando http://univesp.br/sites/58f6506869226e9479d38201/assets/5abbffea69226e07523018d9/Resultado_parcial_-_TT4A_-_2018__2_.pdf\n"
          ],
          "name": "stdout"
        }
      ]
    }
  ]
}