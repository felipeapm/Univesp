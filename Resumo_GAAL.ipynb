{
  "nbformat": 4,
  "nbformat_minor": 0,
  "metadata": {
    "colab": {
      "name": "Resumo GAAL.ipynb",
      "provenance": [],
      "collapsed_sections": []
    },
    "kernelspec": {
      "name": "python3",
      "display_name": "Python 3"
    },
    "language_info": {
      "name": "python"
    }
  },
  "cells": [
    {
      "cell_type": "markdown",
      "source": [
        "# Espelhamento de matrizes"
      ],
      "metadata": {
        "id": "GjhPNKgZKTgK"
      }
    },
    {
      "cell_type": "markdown",
      "source": [
        "$\\Large A_{m \\times n}$\n",
        "<p>\n",
        "$\\Large B_{m \\times n}$"
      ],
      "metadata": {
        "id": "wnBPc1_qLdZb"
      }
    },
    {
      "cell_type": "markdown",
      "source": [
        "## Espelhamento horizontal"
      ],
      "metadata": {
        "id": "Y4ue79oTKXVr"
      }
    },
    {
      "cell_type": "markdown",
      "source": [
        "$\\large\n",
        "A = \n",
        "\\begin{bmatrix}\n",
        "a & b & c\\\\\n",
        "d & e & f\\\\\n",
        "g & h & i\n",
        "\\end{bmatrix}\n",
        "\\to\n",
        "B = \n",
        "\\begin{bmatrix}\n",
        "c & b & a\\\\\n",
        "f & e & d\\\\\n",
        "i & h & g\n",
        "\\end{bmatrix}\n",
        "$"
      ],
      "metadata": {
        "id": "JA-jkyKEJUaO"
      }
    },
    {
      "cell_type": "markdown",
      "source": [
        "$\\Large B_{ij} = A_{ik}$\n",
        "<p>\n",
        "onde:\n",
        "<p>\n",
        "$\\large k = n + 1 - j$ (para $1 \\leq j \\leq n$)\n",
        "<br>\n",
        "$\\large k = n - 1 - j$ (para $0 \\leq j \\leq n - 1$)"
      ],
      "metadata": {
        "id": "I0xRdAHYKdEU"
      }
    },
    {
      "cell_type": "markdown",
      "source": [
        "## Espelhamento vertical"
      ],
      "metadata": {
        "id": "b8UJ8oG6NC0p"
      }
    },
    {
      "cell_type": "markdown",
      "source": [
        "$\\large\n",
        "A = \n",
        "\\begin{bmatrix}\n",
        "a & b & c\\\\\n",
        "d & e & f\\\\\n",
        "g & h & i\n",
        "\\end{bmatrix}\n",
        "\\to\n",
        "B = \n",
        "\\begin{bmatrix}\n",
        "g & h & i\\\\\n",
        "d & e & f\\\\\n",
        "a & b & c\n",
        "\\end{bmatrix}\n",
        "$"
      ],
      "metadata": {
        "id": "G1zJZbEpNC0p"
      }
    },
    {
      "cell_type": "markdown",
      "source": [
        "$\\Large B_{ij} = A_{kj}$\n",
        "<p>\n",
        "onde:\n",
        "<p>\n",
        "$\\large k = m + 1 - i$ (para $1 \\leq i \\leq m$)\n",
        "<br>\n",
        "$\\large k = m - 1 - i$ (para $0 \\leq i \\leq m - 1$)"
      ],
      "metadata": {
        "id": "IhdUOBg_NC0p"
      }
    },
    {
      "cell_type": "markdown",
      "source": [
        "# Operações com matrizes"
      ],
      "metadata": {
        "id": "SFty10EmP9kZ"
      }
    },
    {
      "cell_type": "markdown",
      "source": [
        "## Soma de matrizes"
      ],
      "metadata": {
        "id": "FDrx9PRGQCAr"
      }
    },
    {
      "cell_type": "markdown",
      "source": [
        "$\\Large C = A + B$\n",
        "<br>\n",
        "$\\Large c_{ij} = a_{ij} + b_{ij}$"
      ],
      "metadata": {
        "id": "Z-RhA_xXQvaS"
      }
    },
    {
      "cell_type": "markdown",
      "source": [
        "Exemplo:\n",
        "<p>\n",
        "$\n",
        "\\begin{bmatrix}\n",
        "3 & 5 & 4\\\\\n",
        "2 & 4 & 5\\\\\n",
        "6 & 2 & 3\n",
        "\\end{bmatrix}\n",
        "+\n",
        "\\begin{bmatrix}\n",
        "2 & 2 & 1\\\\\n",
        "1 & 3 & 2\\\\\n",
        "3 & 1 & 1\n",
        "\\end{bmatrix}\n",
        "=\n",
        "\\begin{bmatrix}\n",
        "5 & 7 & 5\\\\\n",
        "3 & 7 & 7\\\\\n",
        "9 & 3 & 4\n",
        "\\end{bmatrix}\n",
        "$"
      ],
      "metadata": {
        "id": "fqFENWFzRNFG"
      }
    },
    {
      "cell_type": "markdown",
      "source": [
        "## Subtração de matrizes"
      ],
      "metadata": {
        "id": "8-wQHlSlSKOi"
      }
    },
    {
      "cell_type": "markdown",
      "source": [
        "$\\Large C = A - B$\n",
        "<br>\n",
        "$\\Large c_{ij} = a_{ij} - b_{ij}$"
      ],
      "metadata": {
        "id": "7a9E-0RoSKOi"
      }
    },
    {
      "cell_type": "markdown",
      "source": [
        "Exemplo:\n",
        "<p>\n",
        "$\n",
        "\\begin{bmatrix}\n",
        "3 & 5 & 4\\\\\n",
        "2 & 4 & 5\\\\\n",
        "6 & 2 & 3\n",
        "\\end{bmatrix}\n",
        "-\n",
        "\\begin{bmatrix}\n",
        "2 & 2 & 1\\\\\n",
        "1 & 3 & 2\\\\\n",
        "3 & 1 & 1\n",
        "\\end{bmatrix}\n",
        "=\n",
        "\\begin{bmatrix}\n",
        "1 & 3 & 3\\\\\n",
        "1 & 1 & 3\\\\\n",
        "3 & 1 & 2\n",
        "\\end{bmatrix}\n",
        "$"
      ],
      "metadata": {
        "id": "oOGZWe-jSKOi"
      }
    },
    {
      "cell_type": "markdown",
      "source": [
        "## Produto por escalar"
      ],
      "metadata": {
        "id": "RbmMkudGTPwY"
      }
    },
    {
      "cell_type": "markdown",
      "source": [
        "$\\Large C = kA$\n",
        "<br>\n",
        "$\\Large c_{ij} = ka_{ij}$"
      ],
      "metadata": {
        "id": "gq4H7ONzTTdf"
      }
    },
    {
      "cell_type": "markdown",
      "source": [
        "Exemplo:\n",
        "<p>\n",
        "$\n",
        "4\n",
        "\\begin{bmatrix}\n",
        "3 & 5 & 4\\\\\n",
        "2 & 4 & 5\\\\\n",
        "6 & 2 & 3\n",
        "\\end{bmatrix}\n",
        "=\n",
        "\\begin{bmatrix}\n",
        "12 & 20 & 16\\\\\n",
        "8 & 16 & 20\\\\\n",
        "24 & 8 & 12\n",
        "\\end{bmatrix}\n",
        "$"
      ],
      "metadata": {
        "id": "isvEgVQtTrTx"
      }
    },
    {
      "cell_type": "markdown",
      "source": [
        "## Produto matricial"
      ],
      "metadata": {
        "id": "4wfT3IH4dxMG"
      }
    },
    {
      "cell_type": "markdown",
      "source": [
        "$\\Large C = AB$\n",
        "<br>\n",
        "$\\Large c_{ij} = \\sum_{k=1}^n a_{ik}b_{kj}$"
      ],
      "metadata": {
        "id": "r3n_KOUTg9kn"
      }
    },
    {
      "cell_type": "markdown",
      "source": [
        "Exemplo:\n",
        "<p>\n",
        "$\n",
        "\\begin{bmatrix}\n",
        "3 & 5 & 4\\\\\n",
        "2 & 4 & 5\\\\\n",
        "6 & 2 & 3\n",
        "\\end{bmatrix}\n",
        "\\begin{bmatrix}\n",
        "2 & 2 & 1\\\\\n",
        "1 & 3 & 2\\\\\n",
        "3 & 1 & 1\n",
        "\\end{bmatrix}\n",
        "=\n",
        "\\begin{bmatrix}\n",
        "23 & 25 & 17\\\\\n",
        "23 & 21 & 15\\\\\n",
        "23 & 21 & 13\n",
        "\\end{bmatrix}\n",
        "$"
      ],
      "metadata": {
        "id": "Z8ckk7LwVIF8"
      }
    },
    {
      "cell_type": "markdown",
      "source": [
        "# Sistema de equações lineares"
      ],
      "metadata": {
        "id": "0UluXozbiSoT"
      }
    },
    {
      "cell_type": "markdown",
      "source": [
        "$\n",
        "\\left\\{\n",
        "\\begin{matrix}\n",
        " x & +2y &     &  -t & = & -1 \\\\ \n",
        "-x & -3y &  +z & +2t & = &  3 \\\\\n",
        " x &  -y & +4z &  +t & = &  1 \\\\\n",
        "2x & -3y & +7z & +3t & = &  4\n",
        "\\end{matrix}\n",
        "\\right.\n",
        "$"
      ],
      "metadata": {
        "id": "ab10IU0oieLV"
      }
    },
    {
      "cell_type": "markdown",
      "source": [
        "$\\Large Ax = b$\n",
        "<p>\n",
        "$\n",
        "\\begin{bmatrix}\n",
        "1 & 2 & 0 & -1\\\\\n",
        "-1 & -3 & 1 & 2\\\\\n",
        "1 & -1 & 4 & 1\\\\\n",
        "2 & -3 & 7 & 3\n",
        "\\end{bmatrix}\n",
        "\\begin{bmatrix}\n",
        "x\\\\\n",
        "y\\\\\n",
        "z\\\\\n",
        "t\n",
        "\\end{bmatrix}\n",
        "=\n",
        "\\begin{bmatrix}\n",
        "-1\\\\\n",
        "3\\\\\n",
        "1\\\\\n",
        "4\n",
        "\\end{bmatrix}\n",
        "$"
      ],
      "metadata": {
        "id": "TtrFumBVlkU0"
      }
    },
    {
      "cell_type": "markdown",
      "source": [
        "$\n",
        "\\left[\n",
        "\\begin{matrix}\n",
        "1 & 2 & 0 & -1\\\\\n",
        "-1 & -3 & 1 & 2\\\\\n",
        "1 & -1 & 4 & 1\\\\\n",
        "2 & -3 & 7 & 3\n",
        "\\end{matrix}\n",
        "\\right|\n",
        "\\left.\n",
        "\\begin{matrix}\n",
        "-1\\\\\n",
        "3\\\\\n",
        "1\\\\\n",
        "4\n",
        "\\end{matrix}\n",
        "\\right]\n",
        "$"
      ],
      "metadata": {
        "id": "UM8UiqsEnubT"
      }
    },
    {
      "cell_type": "markdown",
      "source": [
        "## Eliminação de Gauss, ou escalonamento"
      ],
      "metadata": {
        "id": "4jsDkiBesaE0"
      }
    },
    {
      "cell_type": "markdown",
      "source": [
        "$\n",
        "\\begin{matrix}\n",
        "\\\\\n",
        "L1 + L2\\\\\n",
        "L1 - L3\\\\\n",
        "2L1 - L4\n",
        "\\end{matrix}\n",
        "\\left[\n",
        "\\begin{matrix}\n",
        "1 & 2 & 0 & -1\\\\\n",
        "0 & -1 & 1 & 1\\\\\n",
        "0 & 3 & -4 & -2\\\\\n",
        "0 & 7 & -7 & -5\n",
        "\\end{matrix}\n",
        "\\right|\n",
        "\\left.\n",
        "\\begin{matrix}\n",
        "-1\\\\\n",
        "2\\\\\n",
        "-2\\\\\n",
        "-6\n",
        "\\end{matrix}\n",
        "\\right]\n",
        "$"
      ],
      "metadata": {
        "id": "YwQ5I-iXshbT"
      }
    },
    {
      "cell_type": "markdown",
      "source": [
        "$\n",
        "\\begin{matrix}\n",
        "\\\\\n",
        "\\\\\n",
        "3L2 + L3\\\\\n",
        "7L2 + L4\n",
        "\\end{matrix}\n",
        "\\left[\n",
        "\\begin{matrix}\n",
        "1 & 2 & 0 & -1\\\\\n",
        "0 & -1 & 1 & 1\\\\\n",
        "0 & 0 & -1 & 1\\\\\n",
        "0 & 0 & 0 & 2\n",
        "\\end{matrix}\n",
        "\\right|\n",
        "\\left.\n",
        "\\begin{matrix}\n",
        "-1\\\\\n",
        "2\\\\\n",
        "4\\\\\n",
        "8\n",
        "\\end{matrix}\n",
        "\\right]\n",
        "$"
      ],
      "metadata": {
        "id": "IrChYsSztrnV"
      }
    },
    {
      "cell_type": "markdown",
      "source": [
        "$\n",
        "\\left\\{\n",
        "\\begin{matrix}\n",
        " x & +2y &    & -t & = & -1 \\\\ \n",
        "   &  -y & +z & +t & = &  2 \\\\\n",
        "   &     & -z & +t & = &  4 \\\\\n",
        "   &     &    & 2t & = &  8\n",
        "\\end{matrix}\n",
        "\\right.\n",
        "$"
      ],
      "metadata": {
        "id": "yaH57wE1uDMm"
      }
    },
    {
      "cell_type": "markdown",
      "source": [
        "$2t = 8 \\implies t = 4$\n",
        "<p>\n",
        "$-z + 4 = 4 \\implies z = 0$\n",
        "<p>\n",
        "$-y + 0 + 4 = 2 \\implies y = 2$\n",
        "<p>\n",
        "$x + 2 \\cdot 2 - 4 = -1 \\implies x = -1$"
      ],
      "metadata": {
        "id": "UbvrUDJFuuIN"
      }
    },
    {
      "cell_type": "markdown",
      "source": [
        "# Determinante"
      ],
      "metadata": {
        "id": "p5K7tECbxYDk"
      }
    },
    {
      "cell_type": "markdown",
      "source": [
        "## Propriedades"
      ],
      "metadata": {
        "id": "caAgV9H9xa0l"
      }
    },
    {
      "cell_type": "markdown",
      "source": [
        "1. Se uma matriz é triangular (superior ou inferior) o seu determinante é o produto dos elementos da diagonal principal.\n",
        "<p>\n",
        "$|A| = \\prod_{i=1}^n a_{ii}$\n",
        "<p>\n",
        "Portanto, o determinante da matriz identidade é igual a 1.\n",
        "<p>\n",
        "$|I_n| = 1$"
      ],
      "metadata": {
        "id": "nujGGgq-BS3u"
      }
    },
    {
      "cell_type": "markdown",
      "source": [
        "2. O determinate é linear em cada linha.\n",
        "<p>\n",
        "Se uma fila (linha ou coluna) de uma matriz é multiplicada por um escalar $k$, então o determinante da nova matriz é igual ao determinante da matriz original multiplicado por $k$.\n",
        "<p>\n",
        "$\n",
        "\\begin{vmatrix}\n",
        "ka & kb\\\\\n",
        "c & d\n",
        "\\end{vmatrix}\n",
        "=\n",
        "k\n",
        "\\begin{vmatrix}\n",
        "a & b\\\\\n",
        "c & d\n",
        "\\end{vmatrix}\n",
        "$\n",
        "<p><br>\n",
        "Se cada elemento de uma linha (ou coluna) de uma matriz for escrito como soma de duas parcelas; então $|A|$ é a soma de dois determinantes de ordem $n$, cada um considerando como elemento daquela linha (ou coluna) uma das parcelas, sendo repetidas as demais linhas (ou colunas).\n",
        "<p>\n",
        "$\n",
        "\\begin{vmatrix}\n",
        "a + m & b + n\\\\\n",
        "c & d\n",
        "\\end{vmatrix}\n",
        "=\n",
        "\\begin{vmatrix}\n",
        "a & b\\\\\n",
        "c & d\n",
        "\\end{vmatrix}\n",
        "+\n",
        "\\begin{vmatrix}\n",
        "m & n\\\\\n",
        "c & d\n",
        "\\end{vmatrix}\n",
        "$"
      ],
      "metadata": {
        "id": "iLK4mg_NFLGj"
      }
    },
    {
      "cell_type": "markdown",
      "source": [
        "3. Se duas linhas (ou colunas) de uma matriz são permutadas, então o determinante da nova matriz é $-|A|$."
      ],
      "metadata": {
        "id": "DSU-bT_9HrNX"
      }
    },
    {
      "cell_type": "markdown",
      "source": [
        "4. O determinante de uma matriz é igual ao determinante da sua transposta.\n",
        "<p>\n",
        "$|A| = |A^T|$"
      ],
      "metadata": {
        "id": "JbVOHnwXB5FQ"
      }
    },
    {
      "cell_type": "markdown",
      "source": [
        "5. Se uma matriz quadrada é invertível então, o determinante da sua inversa é o inverso do seu determinante.\n",
        "<p>\n",
        "$|A^{-1}| = \\frac1{|A|}$"
      ],
      "metadata": {
        "id": "kZA4plejCB5Q"
      }
    },
    {
      "cell_type": "markdown",
      "source": [
        "6. O determinante do produto de matrizes quadradas de mesma ordem é o produto dos determinantes (teorema de Binet).\n",
        "<p>\n",
        "$|AB| = |A||B|$"
      ],
      "metadata": {
        "id": "jrOK6ED4Ck1p"
      }
    },
    {
      "cell_type": "markdown",
      "source": [
        "7. O determinante da multiplicação de um escalar por uma matriz quadrada de ordem $n$ é igual a esse escalar, elevado a $n$, vezes o determinante dessa matriz.\n",
        "<p>\n",
        "$|kA| = k^n|A|$"
      ],
      "metadata": {
        "id": "6PSR3AfyCwqR"
      }
    },
    {
      "cell_type": "markdown",
      "source": [
        "8. Se uma fila (linha ou coluna) de uma matriz é composta de zeros, então $|A| = 0$."
      ],
      "metadata": {
        "id": "U8JMFPDHDLoz"
      }
    },
    {
      "cell_type": "markdown",
      "source": [
        "9. Se uma matriz tem duas linhas (ou colunas) iguais (ou múltiplas), então $|A| = 0$."
      ],
      "metadata": {
        "id": "Mf7SjUpLE0ii"
      }
    },
    {
      "cell_type": "markdown",
      "source": [
        "## Determinante para ordens 1, 2 e 3 (Regra de Sarrus)"
      ],
      "metadata": {
        "id": "NySKOc6bJjiX"
      }
    },
    {
      "cell_type": "markdown",
      "source": [
        "$det(a) = |a| = a$"
      ],
      "metadata": {
        "id": "o726EOcyJoZZ"
      }
    },
    {
      "cell_type": "markdown",
      "source": [
        "$\n",
        "det\n",
        "\\begin{pmatrix}\n",
        "a & b\\\\\n",
        "c & d\n",
        "\\end{pmatrix}\n",
        "=\n",
        "\\begin{vmatrix}\n",
        "a & b\\\\\n",
        "c & d\n",
        "\\end{vmatrix}\n",
        "=\n",
        "ad - bc\n",
        "$"
      ],
      "metadata": {
        "id": "WKY97OUgKKc7"
      }
    },
    {
      "cell_type": "markdown",
      "source": [
        "$\n",
        "det\n",
        "\\begin{pmatrix}\n",
        "a & b & c\\\\\n",
        "d & e & f\\\\\n",
        "g & h & i\n",
        "\\end{pmatrix}\n",
        "=\n",
        "\\begin{vmatrix}\n",
        "a & b & c\\\\\n",
        "d & e & f\\\\\n",
        "g & h & i\n",
        "\\end{vmatrix}\n",
        "=\n",
        "(aei + bfg + cdh) - (ceg + afh + bdi)\n",
        "$"
      ],
      "metadata": {
        "id": "7EjC10g2KLm7"
      }
    },
    {
      "cell_type": "markdown",
      "source": [
        "## Teorema de Laplace"
      ],
      "metadata": {
        "id": "GNyzsRBALeAF"
      }
    },
    {
      "cell_type": "markdown",
      "source": [
        "O determinante de uma matriz é igual à soma algébrica dos produtos dos elementos de uma linha (ou coluna) pelos respectivos cofatores."
      ],
      "metadata": {
        "id": "9Dbirhh6Lmfj"
      }
    },
    {
      "cell_type": "markdown",
      "source": [
        "O cofator do elemento $a_{ij}$ é o escalar $C_{ij}$ definido por:\n",
        "<p>\n",
        "$C_{ij} = (-1)^{i+j}\\cdot det(A_{ij})$\n",
        "<p>\n",
        "em que $A_{ij}$ é a matriz que se obtém da matriz original pela eliminação da $i$-ésima linha e da $j$-ésima coluna."
      ],
      "metadata": {
        "id": "krjdznpKN9lb"
      }
    },
    {
      "cell_type": "markdown",
      "source": [
        "Tem-se então que:\n",
        "<p>\n",
        "$\\large det(A) = \\sum_{k=1}^n a_{ik}C_{ik}$\n",
        "<br>\n",
        "ou\n",
        "<br>\n",
        "$\\large det(A) = \\sum_{k=1}^n a_{kj}C_{kj}$"
      ],
      "metadata": {
        "id": "In1s1u1JN2_z"
      }
    },
    {
      "cell_type": "markdown",
      "source": [
        "Exemplo, utilizando uma matriz de ordem 3 e sua primeira linha:\n",
        "<p>\n",
        "$\n",
        "det\n",
        "\\begin{pmatrix}\n",
        "a & b & c\\\\\n",
        "d & e & f\\\\\n",
        "g & h & i\n",
        "\\end{pmatrix}\n",
        "=\n",
        "\\begin{vmatrix}\n",
        "a & b & c\\\\\n",
        "d & e & f\\\\\n",
        "g & h & i\n",
        "\\end{vmatrix}\n",
        "=\n",
        "a\n",
        "\\begin{vmatrix}\n",
        "e & f\\\\\n",
        "h & i\n",
        "\\end{vmatrix}\n",
        "-\n",
        "b\n",
        "\\begin{vmatrix}\n",
        "d & f\\\\\n",
        "g & i\n",
        "\\end{vmatrix}\n",
        "+\n",
        "c\n",
        "\\begin{vmatrix}\n",
        "d & e\\\\\n",
        "g & h\n",
        "\\end{vmatrix}\n",
        "$"
      ],
      "metadata": {
        "id": "WojD-yhMMD-j"
      }
    },
    {
      "cell_type": "markdown",
      "source": [
        "# Matrizes tranposta, simétrica e inversa"
      ],
      "metadata": {
        "id": "sa87aM_JRCo-"
      }
    },
    {
      "cell_type": "markdown",
      "source": [
        "## Matriz transposta"
      ],
      "metadata": {
        "id": "ACytrD9rRY88"
      }
    },
    {
      "cell_type": "markdown",
      "source": [
        "Matriz transposta $A^T$ é a matriz que se obtém da troca de linhas por colunas de uma dada matriz $A$.\n",
        "<p>\n",
        "$\\large a^T_{ij} = a_{ji}$\n",
        "<p>\n",
        "$\\large\n",
        "\\begin{bmatrix}\n",
        "a & b & c\\\\\n",
        "d & e & f\\\\\n",
        "g & h & i\n",
        "\\end{bmatrix}^T\n",
        "=\n",
        "\\begin{bmatrix}\n",
        "a & d & g\\\\\n",
        "b & e & h\\\\\n",
        "c & f & i\n",
        "\\end{bmatrix}\n",
        "$"
      ],
      "metadata": {
        "id": "ORjxD-wGRb5t"
      }
    },
    {
      "cell_type": "markdown",
      "source": [
        "### Propriedades"
      ],
      "metadata": {
        "id": "DCvy0kB8SZaU"
      }
    },
    {
      "cell_type": "markdown",
      "source": [
        "1. $(A^T)^T = A$\n",
        "2. $(A + B)^T = A^T + B^T$\n",
        "3. $(kA)^T = kA^T$\n",
        "4. $(AB)^T = B^TA^T$"
      ],
      "metadata": {
        "id": "UUppdT6XTSf8"
      }
    },
    {
      "cell_type": "markdown",
      "source": [
        "## Matriz simétrica"
      ],
      "metadata": {
        "id": "dVEvXEvoT9mE"
      }
    },
    {
      "cell_type": "markdown",
      "source": [
        "Uma matriz é simétrica se esta for igual a sua matriz transposta.\n",
        "<p>\n",
        "$A = A^T$\n",
        "<p>\n",
        "$\\large\n",
        "\\begin{bmatrix}\n",
        "a & b & c\\\\\n",
        "b & d & e\\\\\n",
        "c & e & f\n",
        "\\end{bmatrix}\n",
        "$"
      ],
      "metadata": {
        "id": "WGxjnkvAUBCl"
      }
    },
    {
      "cell_type": "markdown",
      "source": [
        "## Matriz inversa"
      ],
      "metadata": {
        "id": "P7W5oA71UX-0"
      }
    },
    {
      "cell_type": "markdown",
      "source": [
        "Uma matriz é invertível quando existe outra matriz denotada $A^{-1}$ tal que:"
      ],
      "metadata": {
        "id": "pUn-x6PbVLsF"
      }
    },
    {
      "cell_type": "markdown",
      "source": [
        "$\\large |A| \\neq 0$\n",
        "<br>\n",
        "e\n",
        "<br>\n",
        "$\\large AA^{-1} = A^{-1}A = I$"
      ],
      "metadata": {
        "id": "MH6tPn1zVcMG"
      }
    },
    {
      "cell_type": "markdown",
      "source": [
        "$\\large\n",
        "A = \n",
        "\\begin{bmatrix}\n",
        "a & b\\\\\n",
        "c & d\n",
        "\\end{bmatrix}\n",
        "$\n",
        "<p>\n",
        "$\\large\n",
        "A^{-1} = \n",
        "\\frac1{|A|}\n",
        "\\begin{bmatrix}\n",
        "d & -b\\\\\n",
        "-c & a\n",
        "\\end{bmatrix}\n",
        "$"
      ],
      "metadata": {
        "id": "vforkYkTV5u2"
      }
    },
    {
      "cell_type": "markdown",
      "source": [
        "$\\large\n",
        "A = \n",
        "\\begin{bmatrix}\n",
        "a & b & c\\\\\n",
        "b & d & e\\\\\n",
        "c & e & f\n",
        "\\end{bmatrix}\n",
        "$\n",
        "<p>\n",
        "$\\large A^{-1} = \\frac1{|A|}Adj(A)$\n",
        "<p>\n",
        "$Adj(A) = (cof(A))^T$"
      ],
      "metadata": {
        "id": "FOxfdpa5X2s-"
      }
    },
    {
      "cell_type": "markdown",
      "source": [
        "### Método de Gauss"
      ],
      "metadata": {
        "id": "2TTbRNCkYTvt"
      }
    },
    {
      "cell_type": "markdown",
      "source": [
        "$\\large\n",
        "A = \n",
        "\\begin{bmatrix}\n",
        "a & b\\\\\n",
        "c & d\n",
        "\\end{bmatrix}\n",
        "$\n",
        "<p>\n",
        "$\\large\n",
        "\\left[\n",
        "\\begin{matrix}\n",
        "a & b\\\\\n",
        "c & d\n",
        "\\end{matrix}\n",
        "\\right|\n",
        "\\left.\n",
        "\\begin{matrix}\n",
        "1 & 0\\\\\n",
        "0 & 1\n",
        "\\end{matrix}\n",
        "\\right]\n",
        "\\to\n",
        "\\left[\n",
        "\\begin{matrix}\n",
        "1 & 0\\\\\n",
        "0 & 1\n",
        "\\end{matrix}\n",
        "\\right|\n",
        "\\left.\n",
        "\\begin{matrix}\n",
        "e & f\\\\\n",
        "g & h\n",
        "\\end{matrix}\n",
        "\\right]\n",
        "$\n",
        "<p>\n",
        "$\\large\n",
        "\\begin{bmatrix}\n",
        "e & f\\\\\n",
        "g & h\n",
        "\\end{bmatrix}\n",
        "= A^{-1}\n",
        "$"
      ],
      "metadata": {
        "id": "3oos3DVxaHoe"
      }
    },
    {
      "cell_type": "markdown",
      "source": [
        "Exemplo:\n",
        "<p>\n",
        "$A = \n",
        "\\begin{bmatrix}\n",
        "1 & 1 & 1\\\\\n",
        "3 & 5 & 4\\\\\n",
        "3 & 6 & 5\n",
        "\\end{bmatrix}\n",
        "\\to\n",
        "\\left[\n",
        "\\begin{matrix}\n",
        "1 & 1 & 1\\\\\n",
        "3 & 5 & 4\\\\\n",
        "3 & 6 & 5\n",
        "\\end{matrix}\n",
        "\\right|\n",
        "\\left.\n",
        "\\begin{matrix}\n",
        "1 & 0 & 0\\\\\n",
        "0 & 1 & 0\\\\\n",
        "0 & 0 & 1\n",
        "\\end{matrix}\n",
        "\\right]\n",
        "$"
      ],
      "metadata": {
        "id": "r82_uou7bhRD"
      }
    },
    {
      "cell_type": "markdown",
      "source": [
        "$\n",
        "\\begin{matrix}\n",
        "\\\\\n",
        "3L1 - L2\\\\\n",
        "3L1 - L3\n",
        "\\end{matrix}\n",
        "\\left[\n",
        "\\begin{matrix}\n",
        "1 & 1 & 1\\\\\n",
        "0 & -2 & -1\\\\\n",
        "0 & -3 & -2\n",
        "\\end{matrix}\n",
        "\\right|\n",
        "\\left.\n",
        "\\begin{matrix}\n",
        "1 & 0 & 0\\\\\n",
        "3 & -1 & 0\\\\\n",
        "3 & 0 & -1\n",
        "\\end{matrix}\n",
        "\\right]\n",
        "$"
      ],
      "metadata": {
        "id": "1UziYBMmbmYu"
      }
    },
    {
      "cell_type": "markdown",
      "source": [
        "$\n",
        "\\begin{matrix}\n",
        "2L1 + L2\\\\\n",
        "\\\\\n",
        "2L3 - 3L2\n",
        "\\end{matrix}\n",
        "\\left[\n",
        "\\begin{matrix}\n",
        "2 & 0 & 1\\\\\n",
        "0 & -2 & -1\\\\\n",
        "0 & 0 & -1\n",
        "\\end{matrix}\n",
        "\\right|\n",
        "\\left.\n",
        "\\begin{matrix}\n",
        "5 & -1 & 0\\\\\n",
        "3 & -1 & 0\\\\\n",
        "-3 & 3 & -2\n",
        "\\end{matrix}\n",
        "\\right]\n",
        "$"
      ],
      "metadata": {
        "id": "kbLjZlEIdO_Y"
      }
    },
    {
      "cell_type": "markdown",
      "source": [
        "$\n",
        "\\begin{matrix}\n",
        "L1 + L3\\\\\n",
        "L2 - L3\\\\\n",
        "\\\\\n",
        "\\end{matrix}\n",
        "\\left[\n",
        "\\begin{matrix}\n",
        "2 & 0 & 0\\\\\n",
        "0 & -2 & 0\\\\\n",
        "0 & 0 & -1\n",
        "\\end{matrix}\n",
        "\\right|\n",
        "\\left.\n",
        "\\begin{matrix}\n",
        "2 & 2 & -2\\\\\n",
        "6 & -4 & 2\\\\\n",
        "-3 & 3 & -2\n",
        "\\end{matrix}\n",
        "\\right]\n",
        "$"
      ],
      "metadata": {
        "id": "uSOaIVncdwpX"
      }
    },
    {
      "cell_type": "markdown",
      "source": [
        "$\n",
        "\\begin{matrix}\n",
        "L1 / 2\\\\\n",
        "L2 / -2\\\\\n",
        "(-1) L3\\\\\n",
        "\\end{matrix}\n",
        "\\left[\n",
        "\\begin{matrix}\n",
        "1 & 0 & 0\\\\\n",
        "0 & 1 & 0\\\\\n",
        "0 & 0 & 1\n",
        "\\end{matrix}\n",
        "\\right|\n",
        "\\left.\n",
        "\\begin{matrix}\n",
        "1 & 1 & -1\\\\\n",
        "-3 & 2 & -1\\\\\n",
        "3 & -3 & 2\n",
        "\\end{matrix}\n",
        "\\right]\n",
        "$"
      ],
      "metadata": {
        "id": "v_BQLd_re6bn"
      }
    },
    {
      "cell_type": "markdown",
      "source": [
        "$\n",
        "\\begin{bmatrix}\n",
        "1 & 1 & -1\\\\\n",
        "-3 & 2 & -1\\\\\n",
        "3 & -3 & 2\n",
        "\\end{bmatrix}\n",
        "= A^{-1}\n",
        "$"
      ],
      "metadata": {
        "id": "WBeBE-AvfaEI"
      }
    },
    {
      "cell_type": "markdown",
      "source": [
        "# Vetores"
      ],
      "metadata": {
        "id": "X_sxcbYRbDPb"
      }
    },
    {
      "cell_type": "markdown",
      "source": [
        "Vetores são classes de equivalência.\n",
        "<p>\n",
        "Vetores possuem módulo, direção e sentido."
      ],
      "metadata": {
        "id": "F3EzOfNbbKYk"
      }
    },
    {
      "cell_type": "markdown",
      "source": [
        "## Vetores no plano"
      ],
      "metadata": {
        "id": "KrJPKaHFc0Sk"
      }
    },
    {
      "cell_type": "markdown",
      "source": [
        "$A = (x_1, y_1)$ e $B = (x_2, y_2)$\n",
        "<p>\n",
        "$\\overrightarrow{AB} = \\overrightarrow{(x_2 - x_1, y_2 - y_1)} = \\overrightarrow{v}$\n",
        "<p>\n",
        "O segmento orientado $\\overrightarrow{AB}$ é um representante do vetor $\\overrightarrow{v}$."
      ],
      "metadata": {
        "id": "vizLFDRwbOZj"
      }
    },
    {
      "cell_type": "markdown",
      "source": [
        "## Vetores no espaço"
      ],
      "metadata": {
        "id": "0r26gilkc6mP"
      }
    },
    {
      "cell_type": "markdown",
      "source": [
        "$A = (x_1, y_1, z_1)$ e $B = (x_2, y_2, z_2)$\n",
        "<p>\n",
        "$\\overrightarrow{AB} = \\overrightarrow{(x_2 - x_1, y_2 - y_1, z_2 - z_1)} = \\overrightarrow{v}$"
      ],
      "metadata": {
        "id": "3GuKm1Pfc6mP"
      }
    },
    {
      "cell_type": "markdown",
      "source": [
        "## Soma de vetores"
      ],
      "metadata": {
        "id": "o6GPhekEd1Nb"
      }
    },
    {
      "cell_type": "markdown",
      "source": [
        "### No plano"
      ],
      "metadata": {
        "id": "YljaBK6zd3Vs"
      }
    },
    {
      "cell_type": "markdown",
      "source": [
        "$\\overrightarrow{u} = (x_1, y_1)$ e $\\overrightarrow{v} = (x_2, y_2)$\n",
        "<p>\n",
        "$\\overrightarrow{u} + \\overrightarrow{v} = \\overrightarrow{(x_1 + x_2, y_1 + y_2)}$"
      ],
      "metadata": {
        "id": "Q_UjLZgyeDjc"
      }
    },
    {
      "cell_type": "markdown",
      "source": [
        "### No espaço"
      ],
      "metadata": {
        "id": "-zt4iLdpd-sE"
      }
    },
    {
      "cell_type": "markdown",
      "source": [
        "$\\overrightarrow{u} = (x_1, y_1, z_1)$ e $\\overrightarrow{v} = (x_2, y_2, z_2)$\n",
        "<p>\n",
        "$\\overrightarrow{u} + \\overrightarrow{v} = \\overrightarrow{(x_1 + x_2, y_1 + y_2, z_1 + z_2)}$"
      ],
      "metadata": {
        "id": "TM3ONmWzeCEc"
      }
    },
    {
      "cell_type": "markdown",
      "source": [
        "## Multiplicação por escalar"
      ],
      "metadata": {
        "id": "8On9UOqmewEu"
      }
    },
    {
      "cell_type": "markdown",
      "source": [
        "$\\large \\overrightarrow{u} = (x_1, y_1)$\n",
        "<p>\n",
        "$\\large k\\overrightarrow{u} = \\overrightarrow{(kx_1, ky_1)}$"
      ],
      "metadata": {
        "id": "OzUYOFTreyjV"
      }
    },
    {
      "cell_type": "markdown",
      "source": [
        "## Módulo, ou norma"
      ],
      "metadata": {
        "id": "UIMxQg2NmX9k"
      }
    },
    {
      "cell_type": "markdown",
      "source": [
        "$\\large \\overrightarrow{u} = (u_1, u_2, ... , u_n)$\n",
        "<p>\n",
        "$\\large \\|\\overrightarrow{u}\\| = \\sqrt{(u_1)^2 + (u_2)^2 + ... + (u_n)^2}$"
      ],
      "metadata": {
        "id": "OQuuhTDzma-d"
      }
    },
    {
      "cell_type": "markdown",
      "source": [
        "## Combinação linear"
      ],
      "metadata": {
        "id": "2fE2Mibwgb11"
      }
    },
    {
      "cell_type": "markdown",
      "source": [
        "$\\large a\\overrightarrow{u} + b\\overrightarrow{v}$"
      ],
      "metadata": {
        "id": "9ardu5MzgvvE"
      }
    },
    {
      "cell_type": "markdown",
      "source": [
        "$\\large a_1\\overrightarrow{v_1} + a_2\\overrightarrow{v_2} + ... + a_n\\overrightarrow{v_n}$"
      ],
      "metadata": {
        "id": "XM5wf20ag_DV"
      }
    },
    {
      "cell_type": "markdown",
      "source": [
        "## Vetores linearmente independentes"
      ],
      "metadata": {
        "id": "mdOLiCCMh-Ic"
      }
    },
    {
      "cell_type": "markdown",
      "source": [
        "$\\large \\{\\overrightarrow{u_1}, \\overrightarrow{u_2}, ... , \\overrightarrow{u_n}\\}$ é linearmente independente **se e somente se**:\n",
        "<p>\n",
        "$\\large \\alpha_1\\overrightarrow{u_1} + \\alpha_2\\overrightarrow{u_2} + ... + \\alpha_n\\overrightarrow{u_n} = \\overrightarrow{0} \\implies \\alpha_i = 0, \\forall i$"
      ],
      "metadata": {
        "id": "ELT4G_zPiA_N"
      }
    },
    {
      "cell_type": "markdown",
      "source": [
        "# Operações com vetores"
      ],
      "metadata": {
        "id": "W2lQc4M0khvE"
      }
    },
    {
      "cell_type": "markdown",
      "source": [
        "## Produto escalar, ou interno"
      ],
      "metadata": {
        "id": "qtyE7-mld7W3"
      }
    },
    {
      "cell_type": "markdown",
      "source": [
        "$\\Large a \\cdot b = $ $< \\Large a, b $ $> $ $\\Large = \\sum_{i=1}^n a_i b_i$"
      ],
      "metadata": {
        "id": "TZMVJMZ4kdnp"
      }
    },
    {
      "cell_type": "markdown",
      "source": [
        "$a \\cdot b = \\|a\\|\\|b\\|\\cos\\theta$, onde $\\theta$ é ângulo entre $a$ e $b$.\n",
        "<p>\n",
        "$a \\cdot a = \\|a\\|\\|a\\|\\cos0 = \\|a\\|^2$"
      ],
      "metadata": {
        "id": "r50TK-RYZhoU"
      }
    },
    {
      "cell_type": "markdown",
      "source": [
        "## Projeções"
      ],
      "metadata": {
        "id": "YycA7HoA9arj"
      }
    },
    {
      "cell_type": "markdown",
      "source": [
        "**Projeção escalar:**\n",
        "<br>\n",
        "$\\Large \\|a\\|\\cos\\theta$, onde $\\theta$ é ângulo entre $a$ e a reta $r$."
      ],
      "metadata": {
        "id": "rksH2Z5l9kdV"
      }
    },
    {
      "cell_type": "markdown",
      "source": [
        "**Projeção vetorial:**\n",
        "<br>\n",
        "$\\Large proj_b(a) = \\LARGE \\frac{a \\cdot b}{b \\cdot b} \\Large b = \\LARGE \\frac{a \\cdot b}{\\|b\\|^2} \\Large b$"
      ],
      "metadata": {
        "id": "6gfHwcFT_EWt"
      }
    },
    {
      "cell_type": "markdown",
      "source": [
        "## Produto vetorial"
      ],
      "metadata": {
        "id": "53W_dy1rjReO"
      }
    },
    {
      "cell_type": "markdown",
      "source": [
        "$\\Large\n",
        "a \\times b = a \\wedge b =\n",
        "\\begin{vmatrix}\n",
        "i & j & k\\\\\n",
        "a_1 & a_2 & a_3\\\\\n",
        "b_1 & b_2 & b_3\n",
        "\\end{vmatrix}\n",
        "=\n",
        "\\begin{vmatrix}\n",
        "a_2 & a_3\\\\\n",
        "b_2 & b_3\n",
        "\\end{vmatrix}\n",
        "i -\n",
        "\\begin{vmatrix}\n",
        "a_1 & a_3\\\\\n",
        "b_1 & b_3\n",
        "\\end{vmatrix}\n",
        "j +\n",
        "\\begin{vmatrix}\n",
        "a_1 & a_2\\\\\n",
        "b_1 & b_2\n",
        "\\end{vmatrix}\n",
        "k$"
      ],
      "metadata": {
        "id": "7eQmXh-njSuw"
      }
    },
    {
      "cell_type": "markdown",
      "source": [
        "$\\|a \\times b \\| = \\|a\\|\\|b\\|\\sin\\theta$, onde $\\theta$ é ângulo entre $a$ e $b$. (Área do paralelogramo determinado por $a$ e $b$, usando $|\\sin\\theta|$.)\n",
        "<p>\n",
        "$a \\times b \\perp a$ e $a \\times b \\perp b$\n",
        "<p>\n",
        "$\\{a, b, a \\times b\\}$ é uma base positiva (coerente com a base original)"
      ],
      "metadata": {
        "id": "1hx3q3LvpNYU"
      }
    },
    {
      "cell_type": "markdown",
      "source": [
        "## Produto misto, ou triplo"
      ],
      "metadata": {
        "id": "7q-vHj_BUFFe"
      }
    },
    {
      "cell_type": "markdown",
      "source": [
        "$\\Large [a, b, c] = $\n",
        "$\\Large a \\cdot (b \\times c) = \n",
        "\\begin{vmatrix}\n",
        "a_1 & a_2 & a_3\\\\\n",
        "b_1 & b_2 & b_3\\\\\n",
        "c_1 & c_2 & c_3\n",
        "\\end{vmatrix}\n",
        "$"
      ],
      "metadata": {
        "id": "0y3bUkKdVBUr"
      }
    },
    {
      "cell_type": "markdown",
      "source": [
        "$|[a, b, c]| = $ Volume do paralelepípedo determinado por $a$, $b$ e $c$.\n",
        "<p>\n",
        "$a \\cdot (b \\times c) = b \\cdot (c \\times a) = c \\cdot (a \\times b)$\n",
        "<p>\n",
        "$a \\cdot (b \\times c) = (a \\times b) \\cdot c$\n",
        "<p>\n",
        "$a \\cdot (b \\times c) = -a \\cdot (c \\times b) = -b \\cdot (a \\times c) = -c \\cdot (b \\times a)$\n",
        "<p>\n",
        "$a \\cdot (b \\times c) = \n",
        "\\begin{vmatrix}\n",
        "a_1 & a_2 & a_3\\\\\n",
        "b_1 & b_2 & b_3\\\\\n",
        "c_1 & c_2 & c_3\n",
        "\\end{vmatrix}\n",
        "= \n",
        "\\begin{vmatrix}\n",
        "a_1 & b_1 & c_1\\\\\n",
        "a_2 & b_2 & c_2\\\\\n",
        "a_3 & b_3 & c_3\n",
        "\\end{vmatrix}\n",
        "= \n",
        "\\begin{vmatrix}\n",
        "a & b & c\n",
        "\\end{vmatrix}\n",
        "$\n",
        "<p>\n",
        "$a \\cdot (a \\times b) = a \\cdot (b \\times a) = a \\cdot (b \\times b) = b \\cdot (a \\times a) = 0$"
      ],
      "metadata": {
        "id": "76EZeqj0XX1m"
      }
    },
    {
      "cell_type": "markdown",
      "source": [
        "# Funções"
      ],
      "metadata": {
        "id": "UOP-YCNQNA84"
      }
    },
    {
      "cell_type": "markdown",
      "source": [
        "Reta: $y = ax + b$\n",
        "<p>\n",
        "Parábola: $y = ax^2 + by + c$"
      ],
      "metadata": {
        "id": "DD0SbetbNTOI"
      }
    },
    {
      "cell_type": "markdown",
      "source": [
        "#Equações no plano"
      ],
      "metadata": {
        "id": "1ua5L1fqNsrB"
      }
    },
    {
      "cell_type": "markdown",
      "source": [
        "## Circunferência"
      ],
      "metadata": {
        "id": "UOdzdBxuNv4B"
      }
    },
    {
      "cell_type": "markdown",
      "source": [
        "### Com centro na origem"
      ],
      "metadata": {
        "id": "f7ZKmdvfN-W4"
      }
    },
    {
      "cell_type": "markdown",
      "source": [
        "$x^2 + y^2 = r^2$"
      ],
      "metadata": {
        "id": "FIledS66Qx4B"
      }
    },
    {
      "cell_type": "markdown",
      "source": [
        "### Com centro no ponto $(x_0, y_0)$"
      ],
      "metadata": {
        "id": "oq-wvLVhQ1Pp"
      }
    },
    {
      "cell_type": "markdown",
      "source": [
        "$(x - x_0)^2 + (y - y_0)^2 = r^2$"
      ],
      "metadata": {
        "id": "f4zblSVmQ5Fn"
      }
    },
    {
      "cell_type": "markdown",
      "source": [
        "## Reta"
      ],
      "metadata": {
        "id": "AUXCH_fXOeDR"
      }
    },
    {
      "cell_type": "markdown",
      "source": [
        "### Equação geral da reta no plano"
      ],
      "metadata": {
        "id": "e1d7rRGpOhQC"
      }
    },
    {
      "cell_type": "markdown",
      "source": [
        "$ax + by + c = 0$\n",
        "<p>\n",
        "sendo $a \\neq 0$ ou $b \\neq 0$"
      ],
      "metadata": {
        "id": "VhxtMYJVOmQx"
      }
    },
    {
      "cell_type": "markdown",
      "source": [
        "### Reta definda por dois pontos"
      ],
      "metadata": {
        "id": "8LzXIxlqPH9A"
      }
    },
    {
      "cell_type": "markdown",
      "source": [
        "$A = (x_1, y_1)$\n",
        "<p>\n",
        "$B = (x_2, y_2)$"
      ],
      "metadata": {
        "id": "MIAXVRKAPMH4"
      }
    },
    {
      "cell_type": "markdown",
      "source": [
        "$\\Large m = \\frac{y_2 - y_1}{x_2 - x_1}$\n",
        "<p>\n",
        "$\\Large y - y_1 = m(x - x_1)$"
      ],
      "metadata": {
        "id": "hMXSG_hxPRfI"
      }
    },
    {
      "cell_type": "markdown",
      "source": [
        "## Parábola"
      ],
      "metadata": {
        "id": "5u30SQ-aT7Mj"
      }
    },
    {
      "cell_type": "markdown",
      "source": [
        "$\\large x^2 - 4py = 0$ para $\\cup$\n",
        "<p>\n",
        "$\\large x^2 + 4py = 0$ para $\\cap$"
      ],
      "metadata": {
        "id": "WUXXHNF5UZkq"
      }
    },
    {
      "cell_type": "markdown",
      "source": [
        "## Elipse"
      ],
      "metadata": {
        "id": "1e7823GBPuqZ"
      }
    },
    {
      "cell_type": "markdown",
      "source": [
        "### Com centro na origem"
      ],
      "metadata": {
        "id": "D6JzTZCrQo3B"
      }
    },
    {
      "cell_type": "markdown",
      "source": [
        "$\\Large \\frac{x^2}{a^2} + \\frac{y^2}{b^2} = 1$\n",
        "<p><br>\n",
        "$\\large a^2 = b^2 + c^2$\n",
        "<p>\n",
        "sendo:\n",
        "<br>\n",
        "$a$: semieixo horizontal\n",
        "<br>\n",
        "$b$: semieixo vertical\n",
        "<br>\n",
        "$c$: semidistância focal"
      ],
      "metadata": {
        "id": "hDqiEGrQSOnS"
      }
    },
    {
      "cell_type": "markdown",
      "source": [
        "### Com centro no ponto $(x_0, y_0)$"
      ],
      "metadata": {
        "id": "UGMVLfVsSJeC"
      }
    },
    {
      "cell_type": "markdown",
      "source": [
        "$\\Large \\frac{(x - x_0)^2}{a^2} + \\frac{(y - y_0)^2}{b^2} = 1$"
      ],
      "metadata": {
        "id": "tQN39rDpSNVh"
      }
    },
    {
      "cell_type": "markdown",
      "source": [
        "## Hipérbole"
      ],
      "metadata": {
        "id": "X_QpS91eVLvw"
      }
    },
    {
      "cell_type": "markdown",
      "source": [
        "### Com centro na origem"
      ],
      "metadata": {
        "id": "tENm2rrHVLvw"
      }
    },
    {
      "cell_type": "markdown",
      "source": [
        "$\\Large \\frac{x^2}{a^2} - \\frac{y^2}{b^2} = 1$ para $\\supset\\subset$\n",
        "<p>\n",
        "$\\Large \\frac{y^2}{a^2} - \\frac{x^2}{b^2} = 1$ para $\\frac\\cup\\cap$\n",
        "<p><br>\n",
        "$\\large c^2 = a^2 + b^2$\n",
        "<p>\n",
        "sendo:\n",
        "<br>\n",
        "$a$: semieixo real\n",
        "<br>\n",
        "$b$: semieixo imaginário\n",
        "<br>\n",
        "$c$: semidistância focal"
      ],
      "metadata": {
        "id": "3AxFC4LnVLvw"
      }
    },
    {
      "cell_type": "markdown",
      "source": [
        "### Com centro no ponto $(x_0, y_0)$"
      ],
      "metadata": {
        "id": "Brw17WqxVLvw"
      }
    },
    {
      "cell_type": "markdown",
      "source": [
        "$\\Large \\frac{(x - x_0)^2}{a^2} - \\frac{(y - y_0)^2}{b^2} = 1$ para $\\supset\\subset$\n",
        "<p>\n",
        "$\\Large \\frac{(y - y_0)^2}{a^2} - \\frac{(x - x_0)^2}{b^2} = 1$ para  $\\frac\\cup\\cap$"
      ],
      "metadata": {
        "id": "11muWNZIVLvx"
      }
    },
    {
      "cell_type": "markdown",
      "source": [
        "#Equações no espaço"
      ],
      "metadata": {
        "id": "_wg2Wb76lnhW"
      }
    },
    {
      "cell_type": "markdown",
      "source": [
        "## Reta"
      ],
      "metadata": {
        "id": "so4TGf-6KHDV"
      }
    },
    {
      "cell_type": "markdown",
      "source": [
        "$\\large X = P + t\\overrightarrow{v}$"
      ],
      "metadata": {
        "id": "aU9_zecqKzpb"
      }
    },
    {
      "cell_type": "markdown",
      "source": [
        "### Definida por um ponto e um vetor"
      ],
      "metadata": {
        "id": "nLYaA7QjKfw-"
      }
    },
    {
      "cell_type": "markdown",
      "source": [
        "$P = (x_0, y_0, z_0)$\n",
        "<p>\n",
        "$\\overrightarrow{v} = (a, b, c)$"
      ],
      "metadata": {
        "id": "qFvQgRzCKrUM"
      }
    },
    {
      "cell_type": "markdown",
      "source": [
        "Equação vetorial\n",
        "<p>\n",
        "$\n",
        "\\begin{bmatrix}\n",
        "x\\\\\n",
        "y\\\\\n",
        "z\n",
        "\\end{bmatrix}\n",
        "=\n",
        "\\begin{bmatrix}\n",
        "x_0\\\\\n",
        "y_0\\\\\n",
        "z_0\n",
        "\\end{bmatrix}\n",
        "+ t\n",
        "\\begin{bmatrix}\n",
        "a\\\\\n",
        "b\\\\\n",
        "c\n",
        "\\end{bmatrix}\n",
        "$"
      ],
      "metadata": {
        "id": "i6iAMDfzLejN"
      }
    },
    {
      "cell_type": "markdown",
      "source": [
        "Equação paramétrica\n",
        "<p>\n",
        "$\n",
        "\\left\\{\n",
        "\\begin{matrix}\n",
        "x = x_0 + ta \\\\ \n",
        "y = y_0 + tb \\\\ \n",
        "z = z_0 + tc\n",
        "\\end{matrix}\n",
        "\\right.\n",
        "$"
      ],
      "metadata": {
        "id": "PQuVKJiFMKmd"
      }
    },
    {
      "cell_type": "markdown",
      "source": [
        "### Definida por dois pontos"
      ],
      "metadata": {
        "id": "0-SYw6TFM6fd"
      }
    },
    {
      "cell_type": "markdown",
      "source": [
        "$P = (x_0, y_0, z_0)$\n",
        "<p>\n",
        "$P_1 = (x_1, y_1, z_1)$\n",
        "<p>\n",
        "$\\overrightarrow{v} = \\overrightarrow{PP_1} = (x_1 - x_0, y_1 - y_0, z_1 - z_0)$"
      ],
      "metadata": {
        "id": "sTgwEBqGNFRZ"
      }
    },
    {
      "cell_type": "markdown",
      "source": [
        "Equação vetorial\n",
        "<p>\n",
        "$\n",
        "\\begin{bmatrix}\n",
        "x\\\\\n",
        "y\\\\\n",
        "z\n",
        "\\end{bmatrix}\n",
        "=\n",
        "\\begin{bmatrix}\n",
        "x_0\\\\\n",
        "y_0\\\\\n",
        "z_0\n",
        "\\end{bmatrix}\n",
        "+ t\n",
        "\\begin{bmatrix}\n",
        "x_1 - x_0\\\\\n",
        "y_1 - y_0\\\\\n",
        "z_1 - z_0\n",
        "\\end{bmatrix}\n",
        "$"
      ],
      "metadata": {
        "id": "4ixpr946NFRZ"
      }
    },
    {
      "cell_type": "markdown",
      "source": [
        "Equação paramétrica\n",
        "<p>\n",
        "$\n",
        "\\left\\{\n",
        "\\begin{matrix}\n",
        "x = x_0 + t(x_1 - x_0) \\\\ \n",
        "y = y_0 + t(y_1 - y_0) \\\\ \n",
        "z = z_0 + t(z_1 - z_0)\n",
        "\\end{matrix}\n",
        "\\right.\n",
        "$"
      ],
      "metadata": {
        "id": "bsgp5QIeNFRZ"
      }
    },
    {
      "cell_type": "markdown",
      "source": [
        "## Plano"
      ],
      "metadata": {
        "id": "Hc7guf-yOk-b"
      }
    },
    {
      "cell_type": "markdown",
      "source": [
        "$\\large X = P + t\\overrightarrow{v} + h\\overrightarrow{u}$"
      ],
      "metadata": {
        "id": "NNyLNpv1Ok-b"
      }
    },
    {
      "cell_type": "markdown",
      "source": [
        "### Definido por um ponto e dois vetores"
      ],
      "metadata": {
        "id": "dfosyq9VOk-b"
      }
    },
    {
      "cell_type": "markdown",
      "source": [
        "$P = (x_0, y_0, z_0)$\n",
        "<p>\n",
        "$\\overrightarrow{v} = (a, b, c)$\n",
        "<p>\n",
        "$\\overrightarrow{u} = (d, e, f)$"
      ],
      "metadata": {
        "id": "j5kzLtxHOk-b"
      }
    },
    {
      "cell_type": "markdown",
      "source": [
        "Equação vetorial\n",
        "<p>\n",
        "$\n",
        "\\begin{bmatrix}\n",
        "x\\\\\n",
        "y\\\\\n",
        "z\n",
        "\\end{bmatrix}\n",
        "=\n",
        "\\begin{bmatrix}\n",
        "x_0\\\\\n",
        "y_0\\\\\n",
        "z_0\n",
        "\\end{bmatrix}\n",
        "+ t\n",
        "\\begin{bmatrix}\n",
        "a\\\\\n",
        "b\\\\\n",
        "c\n",
        "\\end{bmatrix}\n",
        "+ h\n",
        "\\begin{bmatrix}\n",
        "d\\\\\n",
        "e\\\\\n",
        "f\n",
        "\\end{bmatrix}\n",
        "$"
      ],
      "metadata": {
        "id": "st32NpOOOk-b"
      }
    },
    {
      "cell_type": "markdown",
      "source": [
        "Equação paramétrica\n",
        "<p>\n",
        "$\n",
        "\\left\\{\n",
        "\\begin{matrix}\n",
        "x = x_0 + ta + ud\\\\ \n",
        "y = y_0 + tb + ue\\\\ \n",
        "z = z_0 + tc + uf\n",
        "\\end{matrix}\n",
        "\\right.\n",
        "$"
      ],
      "metadata": {
        "id": "Oqq8GtitOk-b"
      }
    },
    {
      "cell_type": "markdown",
      "source": [
        "### Definido por três pontos"
      ],
      "metadata": {
        "id": "ExS3H7azOk-c"
      }
    },
    {
      "cell_type": "markdown",
      "source": [
        "$P = (x_0, y_0, z_0)$\n",
        "<p>\n",
        "$P_1 = (x_1, y_1, z_1)$\n",
        "<p>\n",
        "$P_2 = (x_2, y_2, z_2)$\n",
        "<p>\n",
        "$\\overrightarrow{v} = \\overrightarrow{PP_1} = (x_1 - x_0, y_1 - y_0, z_1 - z_0)$\n",
        "<p>\n",
        "$\\overrightarrow{u} = \\overrightarrow{PP_2} = (x_2 - x_0, y_2 - y_0, z_2 - z_0)$"
      ],
      "metadata": {
        "id": "Q6PFEloxOk-c"
      }
    },
    {
      "cell_type": "markdown",
      "source": [
        "Equação vetorial\n",
        "<p>\n",
        "$\n",
        "\\begin{bmatrix}\n",
        "x\\\\\n",
        "y\\\\\n",
        "z\n",
        "\\end{bmatrix}\n",
        "=\n",
        "\\begin{bmatrix}\n",
        "x_0\\\\\n",
        "y_0\\\\\n",
        "z_0\n",
        "\\end{bmatrix}\n",
        "+ t\n",
        "\\begin{bmatrix}\n",
        "x_1 - x_0\\\\\n",
        "y_1 - y_0\\\\\n",
        "z_1 - z_0\n",
        "\\end{bmatrix}\n",
        "+ u\n",
        "\\begin{bmatrix}\n",
        "x_2 - x_0\\\\\n",
        "y_2 - y_0\\\\\n",
        "z_2 - z_0\n",
        "\\end{bmatrix}\n",
        "$"
      ],
      "metadata": {
        "id": "GUZzDTeROk-c"
      }
    },
    {
      "cell_type": "markdown",
      "source": [
        "Equação paramétrica\n",
        "<p>\n",
        "$\n",
        "\\left\\{\n",
        "\\begin{matrix}\n",
        "x = x_0 + t(x_1 - x_0) + u(x_2 - x_0)\\\\ \n",
        "y = y_0 + t(y_1 - y_0) + u(x_2 - x_0)\\\\ \n",
        "z = z_0 + t(z_1 - z_0) + u(x_2 - x_0)\n",
        "\\end{matrix}\n",
        "\\right.\n",
        "$"
      ],
      "metadata": {
        "id": "2w8ZX2fVOk-c"
      }
    },
    {
      "cell_type": "markdown",
      "source": [
        "### Equação analítica, ou cartesiana"
      ],
      "metadata": {
        "id": "L3dzAkDKQCxG"
      }
    },
    {
      "cell_type": "markdown",
      "source": [
        "$\\Large \\pi: ax + by + cz + d = 0$"
      ],
      "metadata": {
        "id": "dlacic_jQZX_"
      }
    },
    {
      "cell_type": "markdown",
      "source": [
        "$P = (x_0, y_0, z_0)$\n",
        "<p>\n",
        "$\\overrightarrow{n} = \\overrightarrow{v} \\times \\overrightarrow{u} = (a, b, c)$\n",
        "<p>\n",
        "$d = -(ax_0 + by_0 + cz_0)$"
      ],
      "metadata": {
        "id": "GLVJ0xfsRDne"
      }
    },
    {
      "cell_type": "markdown",
      "source": [
        "# Distâncias no plano"
      ],
      "metadata": {
        "id": "9SQUyjjrk0kV"
      }
    },
    {
      "cell_type": "markdown",
      "source": [
        "## Entre dois pontos"
      ],
      "metadata": {
        "id": "-rxfe7U7KK7n"
      }
    },
    {
      "cell_type": "markdown",
      "source": [
        "$A = (x_1, y_1)$\n",
        "<p>\n",
        "$B = (x_2, y_2)$"
      ],
      "metadata": {
        "id": "8xhIgOUZKTYI"
      }
    },
    {
      "cell_type": "markdown",
      "source": [
        "$\\large d(A, B) = \\sqrt{(x_2 - x_1)^2 + (y_2 - y_1)^2}$"
      ],
      "metadata": {
        "id": "GJHcQJ3kKkG_"
      }
    },
    {
      "cell_type": "markdown",
      "source": [
        "## Ponto médio"
      ],
      "metadata": {
        "id": "d5bMWS8LLqn4"
      }
    },
    {
      "cell_type": "markdown",
      "source": [
        "$\\large m = (\\frac{x_1 + x_2}2, \\frac{y_1 + y_2}2)$"
      ],
      "metadata": {
        "id": "t37xSmLCMv8g"
      }
    },
    {
      "cell_type": "markdown",
      "source": [
        "## Entre um ponto e uma reta"
      ],
      "metadata": {
        "id": "fcf9BwsdqYGs"
      }
    },
    {
      "cell_type": "markdown",
      "source": [
        "$P = (x_0, y_0)$\n",
        "<p>\n",
        "$r: ax + by + c = 0$"
      ],
      "metadata": {
        "id": "-3HQiy_GqYGt"
      }
    },
    {
      "cell_type": "markdown",
      "source": [
        "$\\Large d(P, r) = \\frac{|ax_0 + by_0 + c|}{\\sqrt{a^2 + b^2}}$"
      ],
      "metadata": {
        "id": "jmsGfbd8qYGt"
      }
    },
    {
      "cell_type": "markdown",
      "source": [
        "# Distâncias no espaço"
      ],
      "metadata": {
        "id": "53j61rw7SJu5"
      }
    },
    {
      "cell_type": "markdown",
      "source": [
        "## Entre dois pontos"
      ],
      "metadata": {
        "id": "-7iRU7RUSJu5"
      }
    },
    {
      "cell_type": "markdown",
      "source": [
        "$A = (x_1, y_1, z_1)$\n",
        "<p>\n",
        "$B = (x_2, y_2, z_2)$"
      ],
      "metadata": {
        "id": "Fkq3iF3vSJu5"
      }
    },
    {
      "cell_type": "markdown",
      "source": [
        "$\\large d(A, B) = \\sqrt{(x_2 - x_1)^2 + (y_2 - y_1)^2 + (z_2 - z_1)^2}$"
      ],
      "metadata": {
        "id": "QpQgsxjdSJu6"
      }
    },
    {
      "cell_type": "markdown",
      "source": [
        "## Ponto médio"
      ],
      "metadata": {
        "id": "fT2Y2Wx3SJu6"
      }
    },
    {
      "cell_type": "markdown",
      "source": [
        "$\\large m = (\\frac{x_1 + x_2}2, \\frac{y_1 + y_2}2, \\frac{z_1 + z_2}2)$"
      ],
      "metadata": {
        "id": "k9SjTM7gSJu6"
      }
    },
    {
      "cell_type": "markdown",
      "source": [
        "## Entre um ponto e uma reta"
      ],
      "metadata": {
        "id": "SNa0n1mATtNI"
      }
    },
    {
      "cell_type": "markdown",
      "source": [
        "$P = (x_0, y_0, z_0)$\n",
        "<p>\n",
        "$r:\n",
        "\\left\\{\n",
        "\\begin{matrix}\n",
        "x = x_1 + ta \\\\ \n",
        "y = y_1 + tb \\\\ \n",
        "z = z_1 + tc\n",
        "\\end{matrix}\n",
        "\\right.\n",
        "$"
      ],
      "metadata": {
        "id": "gsuV4UFhUFaX"
      }
    },
    {
      "cell_type": "markdown",
      "source": [
        "$P_1 = (x_1, y_1, z_1)$\n",
        "<p>\n",
        "$\\overrightarrow{v} = (a, b, c)$"
      ],
      "metadata": {
        "id": "AH4Tv3yFW0QT"
      }
    },
    {
      "cell_type": "markdown",
      "source": [
        "$\\Large d(P, r) = \\frac{\\|\\overrightarrow{PP_1} \\times \\overrightarrow{v}\\|}{\\|\\overrightarrow{v}\\|}$"
      ],
      "metadata": {
        "id": "j5Evm0bcVFk4"
      }
    },
    {
      "cell_type": "markdown",
      "source": [
        "## Entre um ponto e um plano"
      ],
      "metadata": {
        "id": "ohZNFP0jSgT-"
      }
    },
    {
      "cell_type": "markdown",
      "source": [
        "$P = (x_0, y_0, z_0)$\n",
        "<p>\n",
        "$\\pi: ax + by + cz + d = 0$\n",
        "<p>\n",
        "$\\overrightarrow{n} = (a, b, c)$"
      ],
      "metadata": {
        "id": "MlArZcvzS7iP"
      }
    },
    {
      "cell_type": "markdown",
      "source": [
        "$\\Large d(P, \\pi) = \\frac{|ax_0 + by_0 + cz_0 + d|}{\\|\\overrightarrow{n}\\|}$"
      ],
      "metadata": {
        "id": "4NvEMquFTK-P"
      }
    },
    {
      "cell_type": "markdown",
      "source": [
        "$P_1 = (x_1, y_1, z_1) = $ ponto no plano $\\pi$\n",
        "<p>\n",
        "$\\Large d(P, \\pi) = \\frac{|\\overrightarrow{PP_1} \\cdot \\overrightarrow{n}|}{\\|\\overrightarrow{n}\\|}$"
      ],
      "metadata": {
        "id": "5WUgdRpB-9cP"
      }
    },
    {
      "cell_type": "markdown",
      "source": [
        " ## Entre dois planos"
      ],
      "metadata": {
        "id": "H0BdqQYhVfJW"
      }
    },
    {
      "cell_type": "markdown",
      "source": [
        "$\\pi_1: a_1x_1 + b_1y_1 + c_1z_1 + d_1 = 0$\n",
        "<p>\n",
        "$\\pi_2: a_2x_2 + b_2y_2 + c_2z_2 + d_2 = 0$\n",
        "<p>\n",
        "$\\overrightarrow{n_1} = (a_1, b_1, c_1)$\n",
        "<p>\n",
        "$\\overrightarrow{n_2} = (a_2, b_2, c_2)$"
      ],
      "metadata": {
        "id": "KbC9mMt__xbf"
      }
    },
    {
      "cell_type": "markdown",
      "source": [
        "Se $\\overrightarrow{n_1} \\times \\overrightarrow{n_2} \\neq \\overrightarrow{0}$, os planos são secantes, portanto $d(\\pi_1, \\pi_2) = 0$."
      ],
      "metadata": {
        "id": "BAW6RD5jATG4"
      }
    },
    {
      "cell_type": "markdown",
      "source": [
        "$\\large d(\\pi_1, \\pi_2) = d(P_1, \\pi_2), P_1 \\in \\pi_1$\n",
        "<p>\n",
        "$\\large d(\\pi_1, \\pi_2) = d(P_2, \\pi_1), P_2 \\in \\pi_2$"
      ],
      "metadata": {
        "id": "EjiSRQfeXtY3"
      }
    },
    {
      "cell_type": "markdown",
      "source": [
        "## Entre duas retas"
      ],
      "metadata": {
        "id": "cKp9JzwRYQyf"
      }
    },
    {
      "cell_type": "markdown",
      "source": [
        "$r_1:\n",
        "\\left\\{\n",
        "\\begin{matrix}\n",
        "x = x_1 + ta \\\\ \n",
        "y = y_1 + tb \\\\ \n",
        "z = z_1 + tc\n",
        "\\end{matrix}\n",
        "\\right.\n",
        "$\n",
        "<p>\n",
        "$r_2:\n",
        "\\left\\{\n",
        "\\begin{matrix}\n",
        "x = x_2 + td \\\\ \n",
        "y = y_2 + te \\\\ \n",
        "z = z_2 + tf\n",
        "\\end{matrix}\n",
        "\\right.\n",
        "$"
      ],
      "metadata": {
        "id": "VJR9qI-YZqRa"
      }
    },
    {
      "cell_type": "markdown",
      "source": [
        "$P_1 = (x_1, y_1, z_1)$\n",
        "<p>\n",
        "$P_2 = (x_2, y_2, z_2)$\n",
        "<p>\n",
        "$\\overrightarrow{v_1} = (a, b, c)$\n",
        "<p>\n",
        "$\\overrightarrow{v_2} = (d, e, f)$"
      ],
      "metadata": {
        "id": "1UYHcvcYZqRa"
      }
    },
    {
      "cell_type": "markdown",
      "source": [
        "$\\Large d(r_1, r_2) = \\frac{|[\\overrightarrow{P_1P_2}, \\overrightarrow{v_1}, \\overrightarrow{v_2}]|}{\\|\\overrightarrow{v_1} \\times \\overrightarrow{v_2}\\|}$"
      ],
      "metadata": {
        "id": "I3H8KNQkYfhY"
      }
    },
    {
      "cell_type": "markdown",
      "source": [
        "#Transformações lineares"
      ],
      "metadata": {
        "id": "fS5t9Ynma93B"
      }
    },
    {
      "cell_type": "markdown",
      "source": [
        "$T: V \\to W$ é uma transformação linear se:\n",
        "<p>\n",
        "$T(\\overrightarrow{v} + \\overrightarrow{u}) = T(\\overrightarrow{v}) + T(\\overrightarrow{u})$\n",
        "<p>\n",
        "$T(k\\overrightarrow{v}) = kT(\\overrightarrow{v})$"
      ],
      "metadata": {
        "id": "dHsR3NPZbtpY"
      }
    },
    {
      "cell_type": "markdown",
      "source": [
        "Exemplo:\n",
        "<p>\n",
        "$T: R^2 \\to R^3$\n",
        "<p>\n",
        "$T(x, y) =\n",
        "\\begin{bmatrix}\n",
        "2 & 0\\\\\n",
        "0 & 2\\\\\n",
        "0 & 0\n",
        "\\end{bmatrix}\n",
        "\\begin{bmatrix}\n",
        "x\\\\\n",
        "y\n",
        "\\end{bmatrix}\n",
        "=\n",
        "\\begin{bmatrix}\n",
        "2x\\\\\n",
        "2y\\\\\n",
        "0\n",
        "\\end{bmatrix}\n",
        "$"
      ],
      "metadata": {
        "id": "NDRImNjPchNy"
      }
    },
    {
      "cell_type": "markdown",
      "source": [
        "## Rotação anti-horário"
      ],
      "metadata": {
        "id": "zrEMH80Bd-Qw"
      }
    },
    {
      "cell_type": "markdown",
      "source": [
        "$\\large\n",
        "\\begin{bmatrix}\n",
        "\\cos\\theta & \\sin\\theta\\\\\n",
        "-\\sin\\theta & \\cos\\theta\n",
        "\\end{bmatrix}\n",
        "\\begin{bmatrix}\n",
        "x\\\\\n",
        "y\n",
        "\\end{bmatrix}\n",
        "$"
      ],
      "metadata": {
        "id": "_LhlbV80ebXg"
      }
    },
    {
      "cell_type": "markdown",
      "source": [
        "## Composição de transformações lineares"
      ],
      "metadata": {
        "id": "Fr8cUonde-hI"
      }
    },
    {
      "cell_type": "markdown",
      "source": [
        "$T_1$ é uma transformação linear com matriz associada $A$.\n",
        "<p>\n",
        "$T_2$ é uma transformação linear com matriz associada $B$."
      ],
      "metadata": {
        "id": "48KtcrkwfVmJ"
      }
    },
    {
      "cell_type": "markdown",
      "source": [
        "$T_1 \\circ T_2(x, y) = AB\n",
        "\\begin{bmatrix}\n",
        "x\\\\\n",
        "y\n",
        "\\end{bmatrix}\n",
        "$"
      ],
      "metadata": {
        "id": "I4SHt09dgrtJ"
      }
    },
    {
      "cell_type": "markdown",
      "source": [
        "## Núcleo"
      ],
      "metadata": {
        "id": "q2vS9exnhxlp"
      }
    },
    {
      "cell_type": "markdown",
      "source": [
        "$\\large N(T) = Ker(T) = anul(A)$"
      ],
      "metadata": {
        "id": "XTLlVxX_im8K"
      }
    },
    {
      "cell_type": "markdown",
      "source": [
        "Se $T: V \\to W$, núcleo é o conjunto de vetores $\\overrightarrow{v} \\in V$ que são transformados em $\\overrightarrow{0} \\in W$."
      ],
      "metadata": {
        "id": "rtBOCbZQi2zz"
      }
    },
    {
      "cell_type": "markdown",
      "source": [
        "$N(T) = \\{\\overrightarrow{v} \\in V | T(\\overrightarrow{v}) = \\overrightarrow{0}\\}$\n",
        "<p>\n",
        "$(N(T) \\in V$ e $N(T) \\neq \\varnothing)$"
      ],
      "metadata": {
        "id": "VZVC0WE1jWfZ"
      }
    },
    {
      "cell_type": "markdown",
      "source": [
        "# Subespaço vetorial"
      ],
      "metadata": {
        "id": "1w6QQM0ihHix"
      }
    },
    {
      "cell_type": "markdown",
      "source": [
        "1. $0 \\in V$\n",
        "2. $X, Y \\in V \\implies X + Y \\in V$\n",
        "3. $X \\in V \\implies kX \\in V$"
      ],
      "metadata": {
        "id": "3MW091rlhMrB"
      }
    }
  ]
}